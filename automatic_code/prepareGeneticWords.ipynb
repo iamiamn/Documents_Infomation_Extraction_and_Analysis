{
 "cells": [
  {
   "cell_type": "code",
   "execution_count": 4,
   "metadata": {},
   "outputs": [],
   "source": [
    "### filter step: open \"filterCandidiate.xlsx\", mark  1 in the second column if you don't want to consider the word in document,  \n",
    "filepath_excel = \"./Resource/filterCandidiate.xlsx\"\n",
    "filepath_pkl = \"./resouce/wordsNeedToBeFiltered.dat\"\n",
    "\n",
    "df = pd.read_excel(, index_col = None, header = None)\n",
    "\n",
    "\n",
    "allWords =list(set(df[0]))\n",
    "words = []\n",
    "#filter out null\n",
    "for w in allWords:\n",
    "    try:\n",
    "        if len(w)>1:\n",
    "            words.append(w)\n",
    "    except:\n",
    "        continue\n",
    "len(words)\n",
    "\n",
    "# writeToXlsx(words, \"filterCandidiate.xlsx\")\n",
    "\n",
    "#open the file again and collect all the words that need to be filtered\n",
    "# df = pd.read_excel(\"filterCandidiate.xlsx\", index_col = None, header = None)\n",
    "wordsNeed2Filter = [df[0][i] for i in range(len(df[0])) if df[1][i] == 1 ]\n",
    "wordsNeed2Filter += [\"IEEE\", \"ON\", \"DOWN\", \"THIS\", \"THAT\"]\n",
    "wordsNeed2Filter = set(wordsNeed2Filter)\n",
    "\n",
    "wordsNeed2Filter\n",
    "\n",
    "pickle.dump(wordsNeed2Filter, open(filepath_pkl, \"wb\"))"
   ]
  },
  {
   "cell_type": "code",
   "execution_count": null,
   "metadata": {},
   "outputs": [],
   "source": []
  }
 ],
 "metadata": {
  "kernelspec": {
   "display_name": "Python 3",
   "language": "python",
   "name": "python3"
  },
  "language_info": {
   "codemirror_mode": {
    "name": "ipython",
    "version": 3
   },
   "file_extension": ".py",
   "mimetype": "text/x-python",
   "name": "python",
   "nbconvert_exporter": "python",
   "pygments_lexer": "ipython3",
   "version": "3.6.5"
  }
 },
 "nbformat": 4,
 "nbformat_minor": 2
}
