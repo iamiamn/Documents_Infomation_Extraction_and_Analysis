{
 "cells": [
  {
   "cell_type": "code",
   "execution_count": 11,
   "metadata": {},
   "outputs": [],
   "source": [
    "import pickle, re\n",
    "import pandas as pd"
   ]
  },
  {
   "cell_type": "code",
   "execution_count": 12,
   "metadata": {},
   "outputs": [],
   "source": [
    "oneGram = pickle.load(open(\"techTerm_oneGram_set.dat\", \"rb\"))\n",
    "twoGram = pickle.load(open(\"techTerm_twoGram_dict.dat\", \"rb\"))\n",
    "threeGram = pickle.load(open(\"techTerm_threeGram_dict.dat\", \"rb\"))"
   ]
  },
  {
   "cell_type": "code",
   "execution_count": 15,
   "metadata": {},
   "outputs": [],
   "source": [
    "def save(d, filename):\n",
    "    df = pd.DataFrame()\n",
    "    try:\n",
    "        grams = []\n",
    "        for k, v in d.items():\n",
    "            grams.append(v)\n",
    "        df[\"words\"] = grams\n",
    "        df.to_csv(filename)\n",
    "    except:\n",
    "        df[\"words\"] = list(d)\n",
    "        df.to_csv(filename)"
   ]
  },
  {
   "cell_type": "code",
   "execution_count": 16,
   "metadata": {},
   "outputs": [],
   "source": [
    "save(oneGram, \"oneGram.csv\")\n",
    "save(twoGram, \"twoGram.csv\")\n",
    "save(threeGram, \"threeGram.csv\")"
   ]
  },
  {
   "cell_type": "code",
   "execution_count": null,
   "metadata": {},
   "outputs": [],
   "source": []
  },
  {
   "cell_type": "code",
   "execution_count": null,
   "metadata": {},
   "outputs": [],
   "source": []
  }
 ],
 "metadata": {
  "kernelspec": {
   "display_name": "Python 3",
   "language": "python",
   "name": "python3"
  },
  "language_info": {
   "codemirror_mode": {
    "name": "ipython",
    "version": 3
   },
   "file_extension": ".py",
   "mimetype": "text/x-python",
   "name": "python",
   "nbconvert_exporter": "python",
   "pygments_lexer": "ipython3",
   "version": "3.6.5"
  }
 },
 "nbformat": 4,
 "nbformat_minor": 2
}
