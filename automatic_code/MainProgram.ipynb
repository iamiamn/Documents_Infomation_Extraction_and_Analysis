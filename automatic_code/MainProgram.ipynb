{
 "cells": [
  {
   "cell_type": "code",
   "execution_count": 1,
   "metadata": {},
   "outputs": [],
   "source": [
    "import pickle, re, warnings\n",
    "import pandas as pd\n",
    "from fileProcessing import *\n",
    "import nlkt\n",
    "nltk.download(\"stopwords\")"
   ]
  },
  {
   "cell_type": "markdown",
   "metadata": {},
   "source": [
    "## 1. Load the 80211 pickle Data"
   ]
  },
  {
   "cell_type": "code",
   "execution_count": 3,
   "metadata": {},
   "outputs": [],
   "source": [
    "# this is a dictionary, with filename as key and content as value\n",
    "filepath_fulldict_80211 = \"./80211Data/full_80211_wl_dict.dat\"\n",
    "data80211 = pickle.load(open(filepath_fulldict_80211, \"rb\"))"
   ]
  },
  {
   "cell_type": "code",
   "execution_count": 4,
   "metadata": {},
   "outputs": [],
   "source": [
    "# # modify the key\n",
    "# newDict = {}\n",
    "# for k, v in data80211.items():\n",
    "#     newK = k[4:]\n",
    "#     newDict[newK] = v\n",
    "# pickle.dump(newDict, open(filepath_fulldict_80211, \"wb\"))\n"
   ]
  },
  {
   "cell_type": "code",
   "execution_count": 5,
   "metadata": {},
   "outputs": [],
   "source": [
    "keys = list(data80211.keys())"
   ]
  },
  {
   "cell_type": "code",
   "execution_count": 6,
   "metadata": {},
   "outputs": [
    {
     "name": "stdout",
     "output_type": "stream",
     "text": [
      "key:\n",
      " 11-07-2208-01-000y-802-11y-conditional-sponsor-ballot-report.pdf\n",
      "content:\n",
      " july 2007 doc IEEE 802.11-07/2208r1 submission page peter ecclesine cisco systems IEEE P802.11 wireless lans 802.11y conditional sponsor ballot report date 2007-07-13 author(s name affiliation address phone email peter ecclesine cisco systems 170 tasman dr san jose ca 95134-1706 1-408-527-0815 petere@cisco.com abstract this is the report documenting the results of the WG letter ballots on IEEE 802.11y this report is to be submitted to the IEEE 802 executive committee to support the request to forward IIEEE 802.11y to sponsor ballot july 2007 doc IEEE 802.11-07/2208r1 submission page peter ecclesine cisco systems introduction and summary this is the report to the IEEE 802 executive committee that documents all the WG letter ballots of IEEE 802.11y including voting results comment statistics and unresolved negative comments the total number of voters on IEEE 802.11y is 347 the final results of the voters on IEEE 802.11y are 326 voted 242 yes 24 no 60 abstained for 90.98 approval rate return percentage of 93.9 and an abstain percentage of 18.4 there are 125 outstanding negative comments from seventeen remaining negative voters forty seven of these outstanding negative comments are from the latest latter ballot and the remaining 68 outstanding negative comments are previously recirculated unresolved negative comments from previous letter ballots based on results of the letter ballots on IEEE 802.11y as documented in this report we are asking for approval from the IEEE 802 executive committee to forward IEEE 802.11y to sponsor ballot agenda items and motions requesting conditional approval to forward when the prior ballot has closed shall be accompanied by date the ballot closed vote tally including approve disapprove and abstain votes comments that support the remaining disapprove votes and working group responses schedule for recirculation ballot and resolution meeting letter ballot 94 was vote on draft 1.0 and ran for 40 days starting 12 december 2007 and ending on january 2007 309 voted 182 yes 59 no 71 abstained 75.52 approval rate approve 182 disapprove comments 59 abstain 71 letter ballot 104 was recirculation vote on draft 2.0 and resolutions in 11-07-0008-12 and ran for 16 days from 19 april 2007 until may 2007 324 voted 221 yes 41 no 62 abstained 84.35 approval rate approve 129 disapprove comments 19 abstain 32 180 ballots letter ballot 106 was recirculation vote on draft 3.0 and resolutions recorded in 11-07-0602-07 and ran for 15 days from june 2007 until 20 june 2007 326 voted 242 yes 24 no 60 abstained 90.98 approval rate approve 129 disapprove comments abstain 28 166 ballots cast subsequently two negative voters have changed their votes to approve and at this time there are 17 negative voters with comments recorded in the comment database note that the resolutions for LB 106 comments have not yet been approved by the WG of the total 124 no-voter unsatisfied comments from all letter ballots many are non-technical comments marked technical and many address similar topics the comments may be categorized as follows 62 required comments on draft 1.0 with no subsequent negative voter participation they mainly had an issue related with tgn timelines the channel switch announcment text that also appeared in tgn draft 1.0 LB 84 and tgv and in subsequent events got consolidated into july 2007 doc IEEE 802.11-07/2208r1 submission page peter ecclesine cisco systems tgy as it is scheduled to complete before tgn and tgv at the time of LB 94 the tgn channel switch announcement defined another way to change regulatory classes and proponents of that scheme made comments in LB 94 to remove extended channel switching tgn then changed their definition of what regulatory classes would be required and in tgn draft 2.0 adopted the tgy language for LB 97 if the WG approves the proposed LB 106 comment resolutions there will be just three channel switch announcment comments from LB 104 and 106 that remain rejected LB comment accept accept in principle reject 94 technical required 19 25 23 94 editorial required 104 technical required 104 editorial required 106 technical required 12 24 106 editorial required 37 56 32 there was one required comment on LB 104 “Confusions from submitting redline version without providing rationale to voters.” and suggesting “Cancel and reissue ballot with justification for redline draft and include clean version too.” which the task group considers out of scope if the WG agrees it is out of scope then the voter’s previous approve vote on LB 94 would be the official one not the negative vote on LB 104 the working group responses to all of these unsatisfied comments are on the following pages IEEE 802.11y 3.0 3650-3700 mhz operation in USA comments july 2007 IEEE 802.11-07/2208r0 1110 cl 00 SC comment type GR confusions from submitting redline version without providing rationale to voters suggestedremedy cancel and reissue ballot with justification for redline draft and include clean version too PROPOSED REJECT out of scope comment status response status kurihara thomas proposed response cl 00 SC comment type TR the document does not cite which base document(s this addendum applies to therefore making it impossible to know what this document is modifying suggestedremedy add the statement this document is based on IEEE std 802.11(tm 2007 edition assuming that this is the correct reference for the recently adopted maintenance release of 802.11 if not then the reference should be adjusted accordingly PROPOSED ACCEPT comment status response status amann keith response 2051 cl 03 SC 3.34a 54 comment type TR the text speaks of an association between the dependent STA and the enabling AP however this is confusing because understand that this is not intended to be an 802.11 association suggestedremedy modify nomenclature to call relationship between the dependent STA and the enabling AP registration PROPOSED REJECT as the FCC uses registration for licensed operators and stations in required databases and regulations it would be very confusing to replace enablement with registration comment status response status myles andrew proposed response 2049 cl 03 SC 3.34b 59 comment type TR definition uses term restricted channel however this is not defined anywhere suggestedremedy define restricted channel similar comment applies to 3.48a which defines restricted bands PROPOSED ACCEPT IN PRINCIPLE adding definition of restricted channel which is channel where transmission is restricted to licensed operators and stations operating under their control comment status response status myles andrew proposed response 2050 cl 03 SC 3.54a 65 comment type ER the text uses station however STA would be more consistent with the rest of clause suggestedremedy replace station with STA similar comment applies to other clauses in draft PROPOSED ACCEPT comment status response status myles andrew proposed response 426 cl 03 SC 3.y1 12 comment type TR what does publicly registered mean suggestedremedy explain PROPOSED ACCEPT IN PRINCIPLE replaced with registered STA meaning there is registration system than can be used to facilitate interference resolution comment status response status palm stephen proposed response TYPE tr/technical required er/editorial required gr/general required t/technical e/editorial g/general COMMENT STATUS d/dispatched a/accepted r/rejected RESPONSE STATUS o/open w/written c/closed u/unsatisfied z/withdrawn SORT ORDER clause subclause page line cl 03 SC 3.y1 page of 21 7/17/2007 2:37:48 PM submission peter ecclesine cisco systems IEEE 802.11y 3.0 3650-3700 mhz operation in USA comments july 2007 IEEE 802.11-07/2208r0 1034 cl 03 SC 3.y3 10 comment type TR comment from scott blue the term enabling AP is not appropriate by definition an AP provides DSTA access to DS over the air for purposes including association this device broadcasts information over the air that dependant stas needs in order to gain and retain permission to access to access channel suggestedremedy use the ITU term for this kind of function control or controlling STA remove the word associated from the current definition properly articulate the channel permissioning mechanism using subset of existing association procedures PROPOSED REJECT reject based on discussion and editorial instructions in 07/0801r0 comment status response status ecclesine peter proposed response 427 cl 03 SC 3.y3 19 comment type TR what does publicly registered mean suggestedremedy explain PROPOSED ACCEPT IN PRINCIPLE replaced with registered STA meaning there is registration system than can be used to facilitate interference resolution comment status response status palm stephen proposed response 428 cl 03 SC 3.y4 22 comment type TR some regulatory domains contradicts the title that states in USA USA has only single regulatory domain suggestedremedy correct title or definition to be consistant PROPOSED ACCEPT comment status response status palm stephen proposed response 430 cl 05 SC 5.2.7 10 10 comment type TR what is the definie of cognative radio suggestedremedy define PROPOSED ACCEPT IN PRINCIPLE the sentence being commented on is removed in the rewrite of 5.2.7 now annex J.2 07/0271 comment status response status palm stephen proposed response 431 cl 05 SC 5.2.7 10 15 comment type TR is\"us the same as USA if so the usage should be consistant suggestedremedy change US to USA PROPOSED ACCEPT the comment is applied to annex J.2 07/0271 comment status response status palm stephen proposed response 432 cl 05 SC 5.2.7 10 26 comment type TR leading us is us collequial or USA suggestedremedy correct title or definition to be consistant PROPOSED ACCEPT IN PRINCIPLE the sentence being commented on is removed in the rewrite of 5.2.7 now annex J.2 07/0271 comment status response status palm stephen proposed response TYPE tr/technical required er/editorial required gr/general required t/technical e/editorial g/general COMMENT STATUS d/dispatched a/accepted r/rejected RESPONSE STATUS o/open w/written c/closed u/unsatisfied z/withdrawn SORT ORDER clause subclause page line cl 05 SC 5.2.7 page of 21 7/17/2007 2:37:49 PM submission peter ecclesine cisco systems IEEE 802.11y 3.0 3650-3700 mhz operation in USA comments july 2007 IEEE 802.11-07/2208r0 433 cl 05 SC 5.2.7 10 32 comment type TR is the implication of the last clause that only 5MHz channels may be used or the mhz may also be used suggestedremedy clarify PROPOSED ACCEPT the shalls in 5.2.7 are being moved to annex J.2 defining operation in US 3650 mhz band comment status response status palm stephen proposed response 429 cl 05 SC 5.2.7 10 comment type TR should have is that recommendation or requirement suggestedremedy clariy PROPOSED ACCEPT IN PRINCIPLE the sentence being commented on is removed in the rewrite of 5.2.7 now annex J.2 07/0271 comment status response status palm stephen proposed response 258 cl 05 SC 5.2.7 23 comment type TR new FCC rules emphasisze cognitive radio features listen-before-talk listening enhancements and other radio-aware features for licensed use these capabilities imply the need for objective radio measurements and thus require the radio measurement capability specified in tgk ammendment this is especially true for use of new standardized ED mechanism which cannot rely on RSSI which is not quantitatively specified and has no accuracy requirement RCPI is needed for uniform ED operation within DSE BSA suggestedremedy P4L23 change regulatory to radio measurement capability dot11RadioMeasurementEnabled true regulatory PROPOSED REJECT the shalls in 5.2.7 are being moved to subclause defining operation in US 3650 mhz band the baseline for tgy includes tgk and tgr so the measurements described in the comment will be available via the 802.11k amendment comment status response status kwak joe proposed response 2043 cl 07 SC 7.2.3.1 19 comment type ER the text uses DSE registered location however it would be clearer if it used DSE registered location suggestedremedy fix similar comment applies to 7.2.3.5 7.2.3.7 7.2.3.9 7.3.2 PROPOSED REJECT use is consistent with base standard see IEEE standards style manual jan 2007 clause 13.8 on capitalization comment status response status myles andrew proposed response 2021 cl 07 SC 7.2.3.1 20 comment type TR the notes for DSE registered location here and elsewhere in clauses and 10 refer to if dot11DSERequired is true or dot11RegLocRequired is true when dot11LCIDSERequired is true when either of these is true the quoted text should be replaced by if dot11LCIDSERequired is true everywhere it occurs suggestedremedy per comment PROPOSED ACCEPT IN PRINCIPLE also replace if dot11RegLocRequired is true or dot11DSERequired is true comment status response status ecclesine peter proposed response TYPE tr/technical required er/editorial required gr/general required t/technical e/editorial g/general COMMENT STATUS d/dispatched a/accepted r/rejected RESPONSE STATUS o/open w/written c/closed u/unsatisfied z/withdrawn SORT ORDER clause subclause page line cl 07 SC 7.2.3.1 page of 21 7/17/2007 2:37:49 PM submission peter ecclesine cisco systems IEEE 802.11y 3.0 3650-3700 mhz operation in USA comments july 2007 IEEE 802.11-07/2208r0 2022 cl 07 SC 7.2.3.1 20 comment type ER if description of how dependent STA comes under the control of an enabling AP is created maybe in response to other unsatisfied comments e.g LB104 1034 or 1101 then the variable dot11LCIDSERequired should be renamed globally to something more descriptive of enablement suggestedremedy per comment PROPOSED REJECT LCIDSE conveys location-based dependent STA enablement in six letters of 19 letter name LCI is used in IETF geopriv and related areas like emergency services and DSE is widely used in p802.11y D3.0 fifty-two letters is about the length of line of DESCRIPTION in MIB comment status response status ecclesine peter proposed response 2072 cl 07 SC 7.2.3.1 24 comment type TR as it is stated in the subclause 11.9 of the basic spec stas shall use the DFS procedures defined in this subclause if dot11SpectrumManagementRequired is true the extended channel switch functionality is part of the 11.9 definition so both attributes dot11SpectrumManagementRequiredshoud and dot11ExtendedChannelSwitchImplemented should be mentioned as requirement for the extended channel switch announcement information element presence the same comment applies to any appearance of the extended channel switch announcement in 7.2.3.4 7.2.3.9 suggestedremedy the attribute dot11SpectrumManagementRequired enables wide range of features in the current spec there is no way to separately declare support of them clear specification should be provided to allow or disallow separate use of the extended channel switching PROPOSED ACCEPT IN PRINCIPLE commenter writes would see that the text at the line 24 on page should be changed this way the extended channel switch announcement information element may be present only if dot11ExtendedChannelSwitchImplemented dot11SpectrumManagementRequired and dot11RegulatoryClassesRequired are true will add normative statement in 11.9.7 when dot11ExtendedChannelSwitchImplemented is true dot11MultiDomainCapabilityEnabled dot11SpectrumManagementReqired and dot11RegulatoryClassesRequired shall be true comment status response status trainin solomon proposed response 2073 cl 07 SC 7.2.3.1 27 comment type TR as it is stated in the subclause 11.9 of the basic spec stas shall use the DFS procedures defined in this subclause if dot11SpectrumManagementRequired is true the supported regulatory classes functionality is part of the 11.9 definition so both attributes dot11SpectrumManagementRequiredshoud and dot11ExtendedChannelSwitchImplemented should be mentioned as requirement for the supported regulatory classes information element presence the same comment applies to any appearance of the supported regulatory classes in 7.2.3.4 7.2.3.9 suggestedremedy the attribute dot11SpectrumManagementRequired enables wide range of features in the current spec there is no way to separately declare support of them clear specification should be provided to allow or disallow separate use of the supported regulatory classes information element PROPOSED ACCEPT IN PRINCIPLE commenter writes would see that the text at the line 24 on page should be changed this way the extended channel switch announcement information element may be present only if dot11ExtendedChannelSwitchImplemented dot11SpectrumManagementRequired and dot11RegulatoryClassesRequired are true will add normative statement in 11.9.7 when dot11ExtendedChannelSwitchImplemented is true dot11MultiDomainCapabilityEnabled dot11SpectrumManagementReqired and dot11RegulatoryClassesRequired shall be true comment status response status trainin solomon proposed response 2046 cl 07 SC 7.2.3.9 10 comment type ER text defines when element is required using is however in 7.2.3.1 used language with shall suggestedremedy change language to be consistent note admit the base standard is not consistent but each amendment should be PROPOSED ACCEPT IN PRINCIPLE commenter mixes beacon frame elements with probe response frame elements and many persistent beacon frame elements 11 14 17 18 21 are noted as shall be present few probe response frame elements 13 16 17 use shall be present most 18 19 20 21 22 use is present comment status response status myles andrew proposed response TYPE tr/technical required er/editorial required gr/general required t/technical e/editorial g/general COMMENT STATUS d/dispatched a/accepted r/rejected RESPONSE STATUS o/open w/written c/closed u/unsatisfied z/withdrawn SORT ORDER clause subclause page line cl 07 SC 7.2.3.9 page of 21 7/17/2007 2:37:50 PM submission peter ecclesine cisco systems IEEE 802.11y 3.0 3650-3700 mhz operation in USA comments july 2007 IEEE 802.11-07/2208r0 2045 cl 07 SC 7.2.3.9 17 comment type TR the supported regulatory classes element in probe response is present if is true however supported regulatory classes element in beacon see 7.2.3.1 may be present if is true suggestedremedy claify why is there difference and correct as appropriate PROPOSED ACCEPT many persistent beacon frame elements 11 14 17 18 21 are noted as shall be present few probe response frame elements 13 16 17 use shall be present most 18 19 20 21 22 use is present will change change supported regulatory classes element notes in beacon to shall be present and delete only comment status response status myles andrew proposed response 2054 cl 07 SC 7.3.2.21.11 39 comment type TR the text refers to the AP with which the STA is associated however it is unclear if this is the enabling AP with which it is registered or the local AP with which it is associated in 802.11 speak suggestedremedy clarify to which AP the clause applies if it is the enabling AP how does the STA return the report if it cannot actually communicate directly with the enabling AP PROPOSED ACCEPT it is mandatory to generate report in response to request from either the enabling AP or the AP with which it is associated comment status response status myles andrew proposed response 2053 cl 07 SC 7.3.2.22.11 24 comment type TR the text states that it is mandatory for STA to support the generation of DSE report if dot11LCIDSERequired is true however the next sentence says it is always optional suggestedremedy remove contradiction PROPOSED ACCEPT comment status response status myles andrew proposed response 288 cl 07 SC 7.3.2.36 10 10 comment type TR assume meters means meters above sea level is this correct suggestedremedy please define accordingly PROPOSED REJECT IETF RFC 3825 is the normative reference and meters is defined with respect to datum therein the definition in IETF RFC 3825 is unchanged by 802.11y therefore the definition is removed comment status response status levy joseph proposed response TYPE tr/technical required er/editorial required gr/general required t/technical e/editorial g/general COMMENT STATUS d/dispatched a/accepted r/rejected RESPONSE STATUS o/open w/written c/closed u/unsatisfied z/withdrawn SORT ORDER clause subclause page line cl 07 SC 7.3.2.36 page of 21 7/17/2007 2:37:50 PM submission peter ecclesine cisco systems IEEE 802.11y 3.0 3650-3700 mhz operation in USA comments july 2007 IEEE 802.11-07/2208r0 cl 07 SC 7.3.2.36 10 11 comment type TR this draft appears to be referencing the same RFC as the 802.11k draft but appears to be using it differently suggestedremedy resolve the differences between this draft and the 802.11k draft to utilize single location method or provide detailed explaination of why these are both required it also seems like there should be some coordination between 802.11y and 802.11k regarding the addition of this information if they are going to both rely on the use of it PROPOSED ACCEPT IN PRINCIPLE both LCI elements were contributed by the same author refer to 11-05/517r0 who has processed all tgk LCI comments and is editor of tgy the coordination is close tgk's LCI measurement report element's use is via measurement request and response while tgy DSE LCI IE is entered administratively in registered stas and only the dependent enablement identifier changes the tgk LCI is not an element with an ID listed in table 26 however it is listed in table 29 measurement type definitions comment status response status amann keith proposed response 289 cl 07 SC 7.3.2.36 10 11 comment type TR assume floors refers to the number of floors above ground level is this correct suggestedremedy please define accordingly PROPOSED REJECT IETF RFC 3825 is the normative reference and floors is defined with respect to datum therein the definition in IETF RFC 3825 is unchanged by 802.11y therefore the definition is removed comment status response status levy joseph proposed response 259 cl 07 SC 7.3.2.36 10 comment type TR figure y112A the only figure in this clause should be titled to define the format of the DSE registered location element suggestedremedy retitle figure y112A to DSE egistered location element format consistent with baseline furthermore rewrite clause to eleimiate term DSE location configuration information but indicate that DSE registered location element contains LCI information PROPOSED ACCEPT IN PRINCIPLE will add figure for the DSE registered location element format and remove this figure comment status response status kwak joe proposed response 263 cl 07 SC 7.3.2.36 11 comment type TR from the description given for DSE LCI and DEI it is not clear if the DEI is unique to single STA or unique to broadly defined location or unique among national licensees can two enabling stas use the same DEI if so under what conditions can the LCI resolution be broad enough to cover campus town state can two or more enabling stas operate at the same registered location does the DEI need to be registered in the FCC database for registered fixed stas can enabling stas be mobile or portable within broad registered location how can operation within the rules occur indoors can indoor shielded from outdoor transmissions from enabling STA operation in an entire building be permitted if at least one indoor STA is enabled by the distant registered fixed STA and can relay the information to other indoor stas can DSE enabled STA enable nearby stas which cannot receive the direct transmission from the distant fixed registered STA for instance mobile stas in cars which enter town and are shielded by buildings along the street from the horizon can STA be enabled by being in radio range of STA that can directly receive beacons from fixed registered STA if STA is enabled on chan can it transmit on channel while continuing to monitor for enabling beacons on channel once each minute suggestedremedy please answer these questions and clarify text where needed BTW this is great work in fairly short time period by very dedicated and skilled task group KUDOS your use and explanation of known draft defects and ongoing efforts in editorial notes on page vii should be model for all drafts PROPOSED ACCEPT IN PRINCIPLE the questions should be answered in the rewrite of clause 11 DSE procedures rather than clause field descriptions it should be noted that FCC registration requires the location be stated to within one meter therefore two registered stations will not have the same LCI comment status response status kwak joe proposed response TYPE tr/technical required er/editorial required gr/general required t/technical e/editorial g/general COMMENT STATUS d/dispatched a/accepted r/rejected RESPONSE STATUS o/open w/written c/closed u/unsatisfied z/withdrawn SORT ORDER clause subclause page line cl 07 SC 7.3.2.36 page of 21 7/17/2007 2:37:50 PM submission peter ecclesine cisco systems IEEE 802.11y 3.0 3650-3700 mhz operation in USA comments july 2007 IEEE 802.11-07/2208r0 260 cl 07 SC 7.3.2.36 11 comment type TR field description not clear clarify as shown suggestedremedy P11L3 replace value set by the enabling station with value if dependant STA bit is zero the dependant enablement identifier contains the ID of the enabling station which transmitted this IE otherwise the dependant enablement identifier conatins the ID of the enabling STA which has enabled transmissions for the dependent STA which is transmitting this IE or use similar equivalent wording PROPOSED ACCEPT IN PRINCIPLE sentence changed to dependent enablement identifier is 16-bit field with value set by the enabling station via the DSE registered location element in the re)association response or zero description of setting shall be in clause 11 DSE procedures not in clause comment status response status kwak joe proposed response 437 cl 07 SC 7.3.2.36 16 10 comment type TR as this line is not sentence meter shall not be capitialized see http://www.bipm.fr/en/si/si_brochure/chapter5/5-2.html suggestedremedy fix capitalization PROPOSED ACCEPT the definition in IETF RFC 3825 is unchanged by 802.11y therefore this line is deleted comment status response status palm stephen proposed response 436 cl 07 SC 7.3.2.36 16 11 comment type TR what are floors suggestedremedy define PROPOSED REJECT IETF RFC 3825 is the normative reference and floors is defined with respect to datum therein the definition in IETF RFC 3825 is unchanged by 802.11y therefore the definition is removed comment status response status palm stephen proposed response 438 cl 07 SC 7.3.2.36 16 12 comment type TR as the word is not at the beginning of sentence meter shall not be capitialized see http://www.bipm.fr/en/si/si_brochure/chapter5/5-2.html suggestedremedy fix capitalization PROPOSED ACCEPT comment status response status palm stephen proposed response 435 cl 07 SC 7.3.2.36 16 comment type TR which one has the definitions the reference or this document suggestedremedy clarify PROPOSED ACCEPT clause states normative reference for RFC 3825 and will change 2.1 or as to 2.1 except as comment status response status palm stephen proposed response 439 cl 07 SC 7.3.2.37 11 comment type TR extended channel switch announcement information element has only one more field i.e new regulatory class than the existing channel switch announcement IE so why not use only the new regulatory class as the content of this new IE when needed both the existing CSA IE and the new IE can be sent suggestedremedy redefine the extended channel switch announcement IE so that it contains only new information that is not in the existing channel switch announcement IE PROPOSED REJECT the ECSA is six octets fewer than any alternative in US 3650 mhz band we do the same as tgn D2.0 comment status response status parameswaran subra proposed response TYPE tr/technical required er/editorial required gr/general required t/technical e/editorial g/general COMMENT STATUS d/dispatched a/accepted r/rejected RESPONSE STATUS o/open w/written c/closed u/unsatisfied z/withdrawn SORT ORDER clause subclause page line cl 07 SC 7.3.2.37 page of 21 7/17/2007 2:37:51 PM submission peter ecclesine cisco systems IEEE 802.11y 3.0 3650-3700 mhz operation in USA comments july 2007 IEEE 802.11-07/2208r0 2039 cl 07 SC 7.3.2.50 10 63-6 comment type TR zero value for the channel switch count field to indicate that the switch occurs anytime after the frame containing the element is transmitted seems to be useless if the transition occurs arbitarirly there is no use in telling other stas suggestedremedy delete sentence and reword previous sentence to become value of indicates that the switch occurs immediately before the next TBTT PROPOSED REJECT text is identical to 7.3.2.20 CSA and works identically the AP says am leaving this channel and the receiving stas know not to wait TBTT before tuning to another frequency comment status response status hiertz guido proposed response 1002 cl 07 SC 7.3.2.50 comment type TR there is octet field defined in the extended channel switch announcement information element called channel switch count with no text describing what it is or how it is used suggestedremedy in the previous version of the draft there was text that described what this field was and what values it could contain it appears to have been stricken in this version of the draft and in reviewing the comment resolutions think i've discovered why although understand the original commenter's concern CID 359 on previous ballot don't agree that this text should have been moved and would recommend that it be moved back here PROPOSED ACCEPT IN PRINCIPLE accept in principle based on discussion and editorial instructions in 07/0673 ætext from 7.3.2.20 will be used replacing shall be set to with indicates replacing shall be set to zero with or zero and shall occur with occurs comment status response status amann keith proposed response 264 cl 07 SC 7.3.2.x comment type TR modify tgk's neighbor report element for this band so that the DSE registered location element may be included for each AP in the neighbor list the new element would be an optional neigbor report subelement which would be required when operating in this 3650 3700 band this would provide neighbor report listing all the registered fixed stas for licensee and optionally for competitors and would provide geographical layout of the network whcih would greatly facilitate roaming for mobile STA in cars on rural roadways which have knowledge of position velocity and direction suggestedremedy add new clause copied from tgk as suggested PROPOSED REJECT as tgk is part of the baseline for tgy the neighbor report element will be present additionally tgy has no requirement to roam so the basis for neighbor validated AP is not present comment status response status kwak joe proposed response 2020 cl 07 SC 7.4 11 23 comment type TR if description of how dependent STA comes under the control of an enabling AP is created maybe in response to other unsatisfied comments e.g LB104 1034 or 1101 and other action frames are defined then dseregisteredlocationannouncement should be moved from spectrum management into new catagory of action frames that involve dependent stations suggestedremedy per comment PROPOSED REJECT creating new category of action frames for three actions involving dependent stations does not appear worth the effort keeping them together with spectrum management action frames will lead to broader use in 802.11 comment status response status ecclesine peter proposed response TYPE tr/technical required er/editorial required gr/general required t/technical e/editorial g/general COMMENT STATUS d/dispatched a/accepted r/rejected RESPONSE STATUS o/open w/written c/closed u/unsatisfied z/withdrawn SORT ORDER clause subclause page line cl 07 SC 7.4 page of 21 7/17/2007 2:37:51 PM submission peter ecclesine cisco systems IEEE 802.11y 3.0 3650-3700 mhz operation in USA comments july 2007 IEEE 802.11-07/2208r0 655 cl 07 SC 7.4.1.6 13 comment type TR there is no need for additional extended channel switch announcement frame the new extended channel switch information element may be contained in the existent channel switch announcement frame suggestedremedy remove the extended channel switch announcement frame PROPOSED REJECT the rev-ma channel switch announcement element has length of octets and legacy stations would have unspecified behavior if the element indicated length other than there is no backward compatibility with tgh stations in this band and only the ECSA is used comment status response status trainin solomon proposed response 440 cl 07 SC 7.4.1.6 13 comment type TR to maintain backwards compatibility the existing CSA frame needs to be sent anyway so it is more efficient to append new information to the existing CSA frame than define new channel switch related frame suggestedremedy remove this newly defined channel switch announcement related frame PROPOSED REJECT the rev-ma channel switch announcement element has length of octets and legacy stations would have unspecified behavior if the element indicated length other than there is no backward compatibility with tgh stations in this band and only the ECSA is used comment status response status parameswaran subra proposed response 2006 cl 07 SC 7.4.1.7 12 38 comment type TR there is no action value field in figure 117b there is only an action field suggestedremedy for consistency add value after action in the figure NOTE this inconsistency also exists for figure 117a and 7.4.1.6 however it was not commented on in previous ballot PROPOSED ACCEPT comment status response status cypher david proposed response 2013 cl 09 SC 9.8.3 13 12 comment type TR the 802.11-2007 standard is silent about parcing the country information element information and the statements should apply to any station when dot11RegulatoryClassesImplemented is true suggestedremedy remove and dot11LCIDSERequired is true from the first sentence and add PICS capability tests about clause 9.8.3 to A.4.12 PROPOSED ACCEPT IN PRINCIPLE will remove and dot11LCIDSERequired is true from the first sentence and add PICS capability tests about clause 9.8.3 to A.4.10 comment status response status ecclesine peter proposed response 2074 cl 09 SC 9.8.3 13 12 comment type TR as it is stated in when dot11RegulatoryClassesImplemented is true and dot11LCIDSERequired is true the following statements apply the defined rules applies to the STA that enables the dependent station enablement procedures only it seems that the rules may be useful for any station that operates with regulatory classes suggestedremedy extend the rules for any station that operates with regulatory classes PROPOSED ACCEPT comment status response status trainin solomon proposed response 2015 cl 09 SC 9.8.4 13 42 comment type TR the 802.11-2007 standard is silent about resolving situations where the country information element is received by an unassociated station and the statement should apply to any station when dot11RegulatoryClassesImplemented is true suggestedremedy remove and dot11LCIDSERequired is true from the sentence and change PICS A.4.13 RC5 accordingly PROPOSED ACCEPT IN PRINCIPLE will remove and dot11LCIDSERequired from the fourth sentence and dot11LCIDSERequired is true from the sixth sentence and change PICS capability tests about clause 9.8.4 in A.4.13 comment status response status ecclesine peter proposed response TYPE tr/technical required er/editorial required gr/general required t/technical e/editorial g/general COMMENT STATUS d/dispatched a/accepted r/rejected RESPONSE STATUS o/open w/written c/closed u/unsatisfied z/withdrawn SORT ORDER clause subclause page line cl 09 SC 9.8.4 page of 21 7/17/2007 2:37:51 PM submission peter ecclesine cisco systems IEEE 802.11y 3.0 3650-3700 mhz operation in USA comments july 2007 IEEE 802.11-07/2208r0 2014 cl 09 SC 9.8.4 13 48 comment type TR the 802.11-2007 standard is silent about resolving situations where the received max transmit power level differs from the transmit power limit indicated by the regulatory class and the statement should apply to any station when dot11RegulatoryClassesImplemented is true suggestedremedy remove and dot11LCIDSERequired is true from the sentence and change PICS A.4.13 RC6 and RC7 accordingly PROPOSED ACCEPT IN PRINCIPLE will remove and dot11LCIDSERequired from the fourth sentence and dot11LCIDSERequired is true from the sixth sentence and change PICS capability tests about clause 9.8.4 in A.4.13 comment status response status ecclesine peter proposed response 2012 cl 09 SC 9.8.4 13 49 comment type ER typo dot11LCSDSERequired should be dot11LCIDSERequired suggestedremedy per comment PROPOSED ACCEPT comment status response status ecclesine peter proposed response 2009 cl 10 SC 10.3.10.1.2 20 15 comment type ER all type of other entries in the parameter table are textual while the valid range entries point to definition clauses for consistency with the other entries change the type to as defined in the DSE registered location element suggestedremedy per comment PROPOSED ACCEPT comment status response status ecclesine peter proposed response 2019 cl 10 SC 10.3.10.1.2 20 15 comment type ER the verb in the mlme-start.request was wrong in D2.0 and should be for not from suggestedremedy per comment PROPOSED ACCEPT comment status response status ecclesine peter proposed response 2005 cl 10 SC 10.3.10.1.2 20 16 comment type ER why is there lack of consistency with the entries under type and valid range for this item that use specific subclause references while in all previous similar items generic descriptive text is used instead suggestedremedy either correctly point link/reference these items in all 10.3.XXX by using subclause references or replace this single instance with the generic non-descriptive text for clarity the former is requested PROPOSED ACCEPT IN PRINCIPLE will change type to as defined in the DSE registered location element and valid range to as defined in 7.3.2.49 in all the other clause 10 entries for DSE registered location and 7.3.2.51 for supportedregulatoryclasses comment status response status cypher david proposed response 293 cl 11 SC 11.1 26 comment type TR this section redefines the meaning of BSA to be geographically defined service area corresponding to the regulatory requirements do not believe that this was the original intent of the term and this new definition will confuse the meaning of the original term therefore new term should be introduced to define the geographic service area enabled by an enabling station suggestedremedy suggest DSE-SA PROPOSED ACCEPT IN PRINCIPLE as the term is not used outside this subclause there is no need to create new one we spell out DSE service area in the title and sentences of the subclause comment status response status levy joseph response TYPE tr/technical required er/editorial required gr/general required t/technical e/editorial g/general COMMENT STATUS d/dispatched a/accepted r/rejected RESPONSE STATUS o/open w/written c/closed u/unsatisfied z/withdrawn SORT ORDER clause subclause page line cl 11 SC 11.1 page 10 of 21 7/17/2007 2:37:51 PM submission peter ecclesine cisco systems IEEE 802.11y 3.0 3650-3700 mhz operation in USA comments july 2007 IEEE 802.11-07/2208r0 cl 11 SC 11.10.3 26 37-3 comment type TR the implication of this poorly worded statement implies that every station will respond to probe request containing DSE registered location element with probe response based on my somewhat limited understanding of this standard it appears that enabling and fixed stations are the equivalent of an access point if this is true then this requirement appears to conflict with the implied requirement of clause 11.1.3.2.1 802.11ma-D9.0 sending probe response that the AP is the only device to respond to probe request in BSS suggestedremedy add appropriate clarifying text to the statement which differentiates the appropriate behavior which should occur for each of the different types of environments that dependent device could find itself in PROPOSED ACCEPT IN PRINCIPLE the rewritten clause will not mention probe request nor probe response comment status response status amann keith proposed response 265 cl 11 SC 11.10.3 26 44 comment type TR requiring dependent STA to transmit to self probe response after each transmission is ridiculous perhaps it would be better to transmit such probe response every 256 transmissions or receptions where does this requirement come from find no FCC rule requiring DSE enabled stas to broadcast the source of their enablement suggestedremedy P26L44 change whenever the sum modulo 256 changes to whenever the sum modulo 256 decreases indicating count rollover this makes more sense but still might be excessive PROPOSED ACCEPT IN PRINCIPLE the rewritten clause will not mention probe request nor probe response the three counters increment when acks or frames or fragments are transmitted allowing the scheduling of DSE registered location frames in relation to the number of transmissions rather than as function of time text changed to and schedule this action frame to be sent to the broadcast address using normal frame transmission rules whenever the sum modulo dot11DSETransmitDivisor has remainder of zero comment status response status kwak joe proposed response 2052 cl 11 SC 11.14 25 35 comment type TR this is similar comment to one made in the last LB that was not addressed because acidently marked it as not required my understanding of the intent of 11y is as follows dependent AP hears enabling AP dependent AP registers with enabling AP either over the air or via wire noting the dependent AP may be low power device unable to communicate with the enabling AP enabling AP accepts registration from dependent AP and allocates unique indentity to dependent AP dependent STA hears enabling AP either over the air or via wire dependent STA registers with enabling AP either over the air or via wire noting the dependent AP may be low power device unable to communicate with the enabling AP enabling AP accepts registration from dependent STA and allocates unique indentity to dependent STA both the dependent AP and the dependent STA may operate normally while they regularly hear the enabling AP however if this underdstanding is correct then there are lots of unanswered questions in the draft where is all this described in the text what protocol is used for dependent STA or dependent AP to communicate with the enabling AP over the wire possibly in different subnet or over the air is the dependent STA allowed to associate with the dependent AP for the purpose of registering over the wire with the enabling AP the text in 11.14.3 implies not suggestedremedy the text needs to be completely rewritten to describe intent completely PROPOSED ACCEPT IN PRINCIPLE will rewrite to remove concurrent associations comment status response status myles andrew proposed response TYPE tr/technical required er/editorial required gr/general required t/technical e/editorial g/general COMMENT STATUS d/dispatched a/accepted r/rejected RESPONSE STATUS o/open w/written c/closed u/unsatisfied z/withdrawn SORT ORDER clause subclause page line cl 11 SC 11.14 page 11 of 21 7/17/2007 2:37:52 PM submission peter ecclesine cisco systems IEEE 802.11y 3.0 3650-3700 mhz operation in USA comments july 2007 IEEE 802.11-07/2208r0 2056 cl 11 SC 11.14 25 50 comment type TR the text refers to frequency band however frequency band is not defined suggestedremedy define frequency band in this context PROPOSED ACCEPT IN PRINCIPLE frequency bands is undefined in the base standard and appears 18 times will rewrite 11.14 text being commented on to remove it comment status response status myles andrew proposed response 2057 cl 11 SC 11.14 25 50 comment type TR the text defines various parameters indexed by frequency band however they do not seem to be indexed by frequency band in the MIB suggestedremedy fix or explain why not PROPOSED ACCEPT will rewrite to remove apparent MIB indexing comment status response status myles andrew proposed response 2055 cl 11 SC 11.14 25 64 comment type TR page 40 says the DSE procedures defined in 11.14 are only used when dot11DSERequired is true however line 64 covers the case when dot11DSERequired is false suggestedremedy remove reference to dot11DSERequired when false PROPOSED ACCEPT comment status response status myles andrew proposed response 2058 cl 11 SC 11.14 26 32 comment type TR the draft seems to define measurement requests and responses however there is no description in 11.14 on how this should occur suggestedremedy provide description in 11.14 on how the measurements are intended to be used PROPOSED ACCEPT IN PRINCIPLE will put usage overview description in 11.14.1 comment status response status myles andrew proposed response 1144 cl 11 SC 11.14.1 23 11 comment type TR there is problem with the concept of STA associating with an enabling AP for enablement and with another local ap's BSS the need for this use case is clear since we want to enable communications with the local AP by providing signal from the enabling AP suggestedremedy define separate management mechanism called enablement that is provided by an enablement server akin to AAA only the beacon from the enablement server needs to be heard over the air the enablement message exchange occurs through the local AP but the connection between the local AP and the enablement server can use either 11y MAC/PHY or any other medium the enablement procedure needs new management frames specification as well as clarification whether the AP to enablement server communication can occur over non-11y channels PROPOSED REJECT reject based on discussion and editorial instructions in 07/0801r0 commenter is encouraged to propose text that would satisfy comment comment status response status nanda sanjiv proposed response TYPE tr/technical required er/editorial required gr/general required t/technical e/editorial g/general COMMENT STATUS d/dispatched a/accepted r/rejected RESPONSE STATUS o/open w/written c/closed u/unsatisfied z/withdrawn SORT ORDER clause subclause page line cl 11 SC 11.14.1 page 12 of 21 7/17/2007 2:37:52 PM submission peter ecclesine cisco systems IEEE 802.11y 3.0 3650-3700 mhz operation in USA comments july 2007 IEEE 802.11-07/2208r0 2059 cl 11 SC 11.14.3 27 comment type TR the text provides picture of typical state machine why does the draft need typical state machine suggestedremedy remove diagram or provide better context PROPOSED ACCEPT IN PRINCIPLE picture is sometimes worth 1000 words and 802.11-2007 figures 15.7 15.9 17.15 17.7 18.8 and 18.10 show typical state machines the state machine diagram clarifies the decision to change states and its consequences comment status response status myles andrew proposed response 2040 cl 11 SC 11.14.3 27 42-4 comment type TR station can use active or passive scanning with passive scanning STA does not transmit any frames it solely seeks for beacon frames with active scanning STA transmits probe request frames after some period the WM is deteced as idle the current text reads for DSE the following statements apply STA with dot11DSERequired set to true shall not operate in an infrastructure BSS or IBSS unless it has received beacon frame or probe response frame from enabling AP with the spectrum management bit set to in the capability information field and with the reglocdse bit set to in the DSE registered location element to receive probe response the STA needs to transmit probe request once it has transmitted probe request in search of an AP it may have already violated the regulatory limitations suggestedremedy do not allow active scanning when the STA is known to operate in frequency band that requires an enabling AP to be allowed to transmit therefore change the text accordingly to not to allow station to search for aps using probe request frames PROPOSED ACCEPT IN PRINCIPLE will remove probe response from unenabled state but retain probe request/probe response in enabled state for use when dot11DSERenewalTime limit approaches comment status response status hiertz guido proposed response 2060 cl 11 SC 11.14.3 28 comment type TR the text includes count the sum this makes no sense suggestedremedy recast sentence to remove count the sum PROPOSED ACCEPT comment status response status myles andrew proposed response 1003 cl 11 SC 11.14.3 35 49 comment type TR the paragraph states that STA with dot11DSERequired set to true shall not operation in an infrastructure BSS or IBSS unless it has received beacon frame or probe response frame from enabling AP the following paragraph goes on to state that an STA that is not associated with an enabling AP shall not transmit except to authenticate and associate so how does STA with dot11DSERequired set to true operating in an IBSS start an IBSS according to this text it isn't allowed to transmit until is has received beacon from an enabling AP but in an IBSS there is no AP furthermore these two paragraphs would imply that the STA is also not able to send probe request messages because they don't fall into the category of authentication or association so if it is not currently hearing beacons it is also unable to probe to locate service suggestedremedy clarify the text as to how an STA can start an IBSS by indicating that it is permissible for the STA to start the IBSS if it is either configured for that mode or has fallen back to IBSS mode after attempting to find an enabling AP and in this case that it is permissible for the STA to transmit an IBSS beacon further clarify the text to state whether it is permissible for the STA to send probe requests or not when attempting to locate an enabling AP PROPOSED REJECT reject based on discussion and editorial instructions in 07/0801r0 the first suggested remedy is illegal in US 3650 mhz band as all dependent stations must directly receive and decode an enabling signal before first transmission as stated in next entry in dashed list comment status response status amann keith proposed response TYPE tr/technical required er/editorial required gr/general required t/technical e/editorial g/general COMMENT STATUS d/dispatched a/accepted r/rejected RESPONSE STATUS o/open w/written c/closed u/unsatisfied z/withdrawn SORT ORDER clause subclause page line cl 11 SC 11.14.3 page 13 of 21 7/17/2007 2:37:52 PM submission peter ecclesine cisco systems IEEE 802.11y 3.0 3650-3700 mhz operation in USA comments july 2007 IEEE 802.11-07/2208r0 441 cl 11 SC 11.9.7.1 24 12 to comment type TR regulatory class unaware legacy devices can not switch to the new channel properly according to these defined rules suggestedremedy CSA frame should always be sent to ensure the proper channel switch of legacy devices when new regulatory class information needs to be communicated it can be appended to the existing CSA frame in the format of new information IE PROPOSED REJECT there are no legacy devices that support CSA that perform proper channel switch as it was undefined in the base standard or amendment we adopt the tgn D2 variable dot11ExtendedChannelSwitchImplemented comment status response status parameswaran subra proposed response 2075 cl 11 SC 11.9.7.1 24 23 comment type TR using of an extended channel switch announcement element and frame and channel switch announcement element and frame actually will present the same information so it is not clear why the use of the extended channel switch announcement element and frame is mandated the same comment applies to 11.9.7.2 suggestedremedy explain clearly when each of the infromation elements and frames should be used and why PROPOSED ACCEPT IN PRINCIPLE the change in regulatory class is the information that differs between ECSA and CSA the only cases where regulatory class is changed and both ECSA and CSA are sent are when the requirements signified by the new regulatory class are met by all stas that act on the channel switch announcement comment status response status trainin solomon proposed response 2077 cl 11 SC 11.9.7.1 24 32 comment type TR if dot11ExtendedChannelSwitchImplemented is false the AP shall send the channel switch announcement and frame or both the extended channel switch announcement and the channel switch announcement elements and frames suggestedremedy if doc11ExtendedChannelSwitchImplemented is false how can an AP send both extended channel switch announcement and the channel switch announcements and frames since the AP does not have the extended channel switch capability section 11.9.7.1 is under clause 11 for DFS in 5Ghz band do the rules specified here also apply to the operation in other bands e.g 2.4Ghz and 3.65Ghz clarify PROPOSED REJECT no further clarification needed the fourth sentence of 11.9 allows DFS procedures to be used in other bands other text makes their use mandatory for operation in other bands the STA may choose to implement ECSA without setting dot11ExtendedChannelSwitchImplemented to true 802.11n specifies in 11.9.8 that dot11ExtendedChannelSwitchImplemented shall be true for HT stas operating in either or both of the 2.4 and ghz bands the 3.65 band is covered by tgy comment lacks specific objections with proposed resolution in sufficient detail so that the specific wording of the changes that will cause the negative voter to change his or her vote to approve can readily be determined comment status response status wang qi proposed response 2076 cl 11 SC 11.9.7.1 24 38 comment type TR paragraph that starts at line 38 does not define behavior of the extended channel switch announcement element suggestedremedy define behavior for the extended channel switch announcement element PROPOSED ACCEPT IN PRINCIPLE will change initial text of second paragraph to in the following text and make corresponding change to 11.9.7.2 commenter writes add the following text before paragraph the starts with an AP shall inform associated stas in the following text wherever channel switch announcement is referred to both the extended channel switch announcement and channel switch announcement should be used as defined in and comment status response status trainin solomon proposed response TYPE tr/technical required er/editorial required gr/general required t/technical e/editorial g/general COMMENT STATUS d/dispatched a/accepted r/rejected RESPONSE STATUS o/open w/written c/closed u/unsatisfied z/withdrawn SORT ORDER clause subclause page line cl 11 SC 11.9.7.1 page 14 of 21 7/17/2007 2:37:52 PM submission peter ecclesine cisco systems IEEE 802.11y 3.0 3650-3700 mhz operation in USA comments july 2007 IEEE 802.11-07/2208r0 2078 cl 11 SC 11.9.7.2 24 64 comment type TR if dot11ExtendedChannelSwitchImplemented is false the DFS shall send the channel switch announcement and frame or both the extended channel switch announcement and the channel switch announcement elements and frames suggestedremedy if doc11ExtendedChannelSwitchImplemented is false how can DFS owner send both extended channel switch announcement and the channel switch announcements and frames since the DFS owner does not have the extended channel switch capability section 11.9.7.2 is under clause 11 for DFS in 5Ghz band do the rules specified here also apply to the operation in other bands e.g 2.4Ghz and 3.65Ghz clarify PROPOSED REJECT no further clarification needed the fourth sentence of 11.9 allows DFS procedures to be used in other bands other text makes their use mandatory for operation in other bands the STA may choose to implement ECSA without setting dot11ExtendedChannelSwitchImplemented to true 802.11n specifies in 11.9.8 that dot11ExtendedChannelSwitchImplemented shall be true for HT stas operating in either or both of the 2.4 and ghz bands the 3.65 band is covered by tgy comment lacks specific objections with proposed resolution in sufficient detail so that the specific wording of the changes that will cause the negative voter to change his or her vote to approve can readily be determined comment status response status wang qi proposed response 442 cl 11 SC 11.9.7.2 25 42 comment type TR legacy devices that are regulatory class unaware can not switch to the new channel properly according to these defined rules suggestedremedy CSA frame should always be sent to ensure the proper channel switch of legacy devices when new regulatory class information needs to be communicated it can be appended to the existing CSA frame in the format of new information IE PROPOSED REJECT there are no legacy devices that support CSA that perform proper channel switch as it was undefined in the base standard or amendment we adopt the tgn D2 variable dot11ExtendedChannelSwitchImplemented comment status response status parameswaran subra proposed response 1020 cl 11 SC 11.9.7.3 22 25 comment type TR this country what is this country suggestedremedy please specify which or what this country is PROPOSED ACCEPT IN PRINCIPLE accept in principle based on discussion in 07/0674 operating with for this country 7.3.2.9 comment status response status chaplin clint proposed response 2002 cl 11 SC 11.9.7.3 26 16 comment type TR the list of regulatory class(es field shall list in ascending order all regulatory classes that the STA is capable of operating with for this country 7.3.2.9 country is still not defined to my satisfaction suggestedremedy the list of regulatory class(es field shall list in ascending order all regulatory classes that the STA is capable of operating with for the country that is specified in the country information element 7.3.2.9 PROPOSED ACCEPT comment status response status chaplin clint proposed response 13 cl 17 SC 17.1 27 12 comment type TR clause 19 contains references that point back to clause 17 for purposes of defining OFDM operation at 2.4GHz the proposed addition of the statement this OFDM system shall not be operated in the 2.4 ghz frequency band creates conflict with the statements in clause 19 that refer to clause 17 which now states that none of this applies thus creating conflict within the standard suggestedremedy remove the statement regarding operation on the 2.4GHz band or change the statement to indicate that specific details for the use of OFDM are in clause 19 and that it should be referenced first when examining 2.4GHz operation PROPOSED ACCEPT comment status response status amann keith proposed response TYPE tr/technical required er/editorial required gr/general required t/technical e/editorial g/general COMMENT STATUS d/dispatched a/accepted r/rejected RESPONSE STATUS o/open w/written c/closed u/unsatisfied z/withdrawn SORT ORDER clause subclause page line cl 17 SC 17.1 page 15 of 21 7/17/2007 2:37:53 PM submission peter ecclesine cisco systems IEEE 802.11y 3.0 3650-3700 mhz operation in USA comments july 2007 IEEE 802.11-07/2208r0 443 cl 17 SC 17.3.10.5 31 10-1 comment type TR the definition of the threshold is not quite correct suggestedremedy change the sentence to if the preamble portion was missed the receiver shall hold the CS signal busy for any signal 20 dB or more above the minimum modulation and coding rate sensitivity greater or equal than 62 dBm for 20 mhz channel spacing greater or equal than 65 dBm for 10 mhz channel spacing and greater or equal than 68 dBm for mhz channel spacing PROPOSED ACCEPT IN PRINCIPLE annex will refer to 10 db more restrictive ED_THRESHOLD comment status response status parameswaran subra proposed response 2026 cl 17 SC 17.3.10.5 32 32-4 comment type TR for the optional CCA-ED the OFDM PHY shall provide the additional capability to perform CCA-ED the CCA shall indicate BUSY if there is any energy above the ED threshold or CS in these sentence there is shall statement for optional if something is optional then usage of shall seems to be incorrect suggestedremedy change the sentence to for the optional CCA-ED the OFDM PHY provides the additional capability to perform CCA-ED the CCA indicates BUSY if there is any energy above the ED threshold or CS PROPOSED ACCEPT IN PRINCIPLE comment status response status erceg vinko proposed response 266 cl 17 SC 17.3.12 32 comment type TR standardized ED mechanism cannot rely on RSSI which is not quantitatively specified and has no accuracy requirement RCPI is needed for uniform ED operation within DSE BSA suggestedremedy P32L9 change RSSI to RCPI PROPOSED REJECT RSSI is currently used in clause 17 for CCA 11y D1.0 maintains this approach comment status response status kwak joe proposed response 2024 cl 17 SC 17.3.6 29 58-6 comment type TR for improved spectrum sharing in some bands an optional clear channel assessment energy detect CCAED may be used the behavior class indicating CCA-ED is given in table I.3 the regulatory classes requiring the corresponding CCA-ED behavior class are given in annex in this paragraph optional CCA-ED is defined that actually becomes mandatory for the 3.65 ghz band in annex and don't think that this is good way of writing spec optional that is actually mandatory is very confusing suggestedremedy in some way relate CCA-ED to only regulatory classes in annex and that are required to have CCA-ED i.e 3.65 ghz band wording optional CCA-ED is very confusing avoid using optional in the text understand that this may be tricky task but believe that it has to be done PROPOSED ACCEPT IN PRINCIPLE comment status response status erceg vinko proposed response 1006 cl 17 SC 17.3.9.2 26 62 comment type TR the text calls states that at 15MHz frequency offset the transmit spectrum will have 40dBr bandwidth when using 20MHz channel spacing figure y254a next page appears to indicate that this is 45 dBr suggestedremedy correct either the text or the figure as required to ensure that the text and the figure are consistent with regard to the bandwidth number in this case PROPOSED ACCEPT comment status response status amann keith proposed response TYPE tr/technical required er/editorial required gr/general required t/technical e/editorial g/general COMMENT STATUS d/dispatched a/accepted r/rejected RESPONSE STATUS o/open w/written c/closed u/unsatisfied z/withdrawn SORT ORDER clause subclause page line cl 17 SC 17.3.9.2 page 16 of 21 7/17/2007 2:37:53 PM submission peter ecclesine cisco systems IEEE 802.11y 3.0 3650-3700 mhz operation in USA comments july 2007 IEEE 802.11-07/2208r0 12 cl 17 SC 17.3.9.2 29-30 11 comment type TR it appears that the task group felt it necessary to duplicate information which was contained in annex related to spectral mask based on some reasonable comparison of these two sections it appears to simply be duplication of information suggestedremedy remove the additional changes made to clause 17.3.9.2 if there is some distinction made with these changes then suggest incorporating them into annex rather than creating what appears to be duplication of information that is subject to synchronization issues in the future PROPOSED ACCEPT IN PRINCIPLE CID 444 removes them from annex informative which should be requirements from regulation not default PHY behavior default PHY requirements should be specified uniquely in PHY clauses comment status response status amann keith proposed response 2071 cl 17 SC 17.3.9.2 30 25 comment type TR remember the discussion in the group about what more stringent means as remember it the intent of the resolution was to require the actual mask to be the more stringent of regulatory and default masks at all frequency points the outcome in D3.0 is different provided that one of the regulatory mask points is more stringent than the default the entire regulatory mask will be used even if all its other points are more relaxed suggestedremedy replace with something like in the absence of regulatory mask use the mask defined here in presence of regualtory mask the device shall meet both the requirements of the regulatory mask and the mask defined here i.e its emissions shall be no higher at any frequency offset than the minimum of the values specified in the regulatory and default masks PROPOSED ACCEPT IN PRINCIPLE comment status response status stephens adrian proposed response 2017 cl 17 SC 17.4.1 33 16 comment type ER table 146 heading is partially underlined and should not be suggestedremedy per comment PROPOSED ACCEPT comment status response status ecclesine peter proposed response 269 cl 17 SC 17.5.5.9.1 35 19 comment type TR standardized ED mechanism cannot rely on RSSI which is not quantitatively specified and has no accuracy requirement RCPI is needed for uniform ED operation within DSE BSA suggestedremedy change RSSI to RCPI PROPOSED REJECT RSSI is currently used in clause 17 for CCA 11y D1.0 maintains this approach comment status response status kwak joe proposed response 267 cl 17 SC 17.5.5.9.2 36 comment type TR standardized ED mechanism cannot rely on RSSI which is not quantitatively specified and has no accuracy requirement RCPI is needed for uniform ED operation within DSE BSA suggestedremedy change RSSI to RCPI places in table at line and two places in table at line 16 PROPOSED REJECT RSSI is currently used in clause 17 for CCA 11y D1.0 maintains this approach comment status response status kwak joe proposed response TYPE tr/technical required er/editorial required gr/general required t/technical e/editorial g/general COMMENT STATUS d/dispatched a/accepted r/rejected RESPONSE STATUS o/open w/written c/closed u/unsatisfied z/withdrawn SORT ORDER clause subclause page line cl 17 SC 17.5.5.9.2 page 17 of 21 7/17/2007 2:37:53 PM submission peter ecclesine cisco systems IEEE 802.11y 3.0 3650-3700 mhz operation in USA comments july 2007 IEEE 802.11-07/2208r0 2003 cl SC A.4.10 35 54 comment type TR there is an editor's instruction here to add entries into table however the text here does not contain any entries to be added suggestedremedy if there are entries to be added put those entries into the draft if there are no entries to be added delete the editor's instruction PROPOSED REJECT frontmatter page editorial note says that tables may float this one floated to page 36 line and please do not report it as defect in the draft comment status response status chaplin clint proposed response 434 cl SC A.4.17 48 comment type TR this clause does not have explanatory text suggestedremedy add text to introudce the clause PROPOSED REJECT in rev-ma annex A.4 none of the prior clauses have explanatory text comment status response status palm stephen proposed response 2027 cl SC A.4.8 35 15 comment type TR is CCA-ED energy detect with OFDM CS needed suggestedremedy if not required please remove CCA-ED energy detect with OFDM CS from the table PROPOSED ACCEPT comment status response status erceg vinko proposed response 2023 cl annex SC A.4.17 37 57 comment type TR PICS A.4.17 DSE4 extended channel switch procedure should be part of A.4.12 after SM20 and depending on CF10 suggestedremedy per comment PROPOSED ACCEPT IN PRINCIPLE CF15 requires CF10 so CF10 does not need to be in the status field when DSE4 is moved to A.4.12 comment status response status ecclesine peter proposed response 2044 cl annex SC annex 40 12 comment type TR the definitions of various parameters uses the clause the capability is disabled otherwise however the definition provides semantics rather than describing capability and so the the capability is disabled otherwise makes no sense suggestedremedy in each case properly define the semantics in the otherwise case PROPOSED ACCEPT IN PRINCIPLE of the four occurrences of the phrase in annex text two indicate capabilities and two are indications of requirements the description text of dot11RegLocRequired and dot11DSERequired will be changed and commas will be added after disabled in all occurrences comment status response status myles andrew proposed response 2016 cl annex SC annex 40 19 comment type TR all the dot11StationConfigTable elements and dot11LCIDSE table entries should be read only as they can only be changed from their default values by licensed operator suggestedremedy change dot11LCIDSERequired dot11DSERequired and all accessible parts of dot11LCIDSETable from read-write to read-only PROPOSED ACCEPT comment status response status ecclesine peter proposed response TYPE tr/technical required er/editorial required gr/general required t/technical e/editorial g/general COMMENT STATUS d/dispatched a/accepted r/rejected RESPONSE STATUS o/open w/written c/closed u/unsatisfied z/withdrawn SORT ORDER clause subclause page line cl annex SC annex page 18 of 21 7/17/2007 2:37:53 PM submission peter ecclesine cisco systems IEEE 802.11y 3.0 3650-3700 mhz operation in USA comments july 2007 IEEE 802.11-07/2208r0 2041 cl annex SC annex 40 28 comment type ER dot11RecLocRequired should be dot11RegLocRequired suggestedremedy fix PROPOSED ACCEPT comment status response status myles andrew proposed response 2047 cl annex SC annex 40 28 comment type TR the name of dot11RgLocRequired suggests that something is required however the definition provides no hint as to what is required suggestedremedy change the definition so that it is clear what is required PROPOSED ACCEPT IN PRINCIPLE the description text will be clarified or deleted comment status response status myles andrew proposed response 2048 cl annex SC annex 40 40 comment type TR the name of dot11DSERequired suggests that something is required however the definition only hints that the station is required to be enabled by an enabling AP suggestedremedy change the definition so that it is clearer what is required PROPOSED ACCEPT IN PRINCIPLE the description text will be clarified comment status response status myles andrew proposed response 2007 cl annex SC annex 41 57 comment type ER LB104 accepted comment 1085 asked that RFC-4181 best practices be followed in annex yet dot11RegLocAgreement dot11RegLocDSE and dot11DependentSTA are type INTEGER when they should be truthvalues per RFC-4181 4.6.1.9 suggestedremedy change to truthvalues and revise descriptions accordingly PROPOSED ACCEPT comment status response status ecclesine peter proposed response 2008 cl annex SC annex 42 34 comment type TR dot11LCIDSETable elements that are defined in RFC-3825 should be stored in the MIB big endian and the descriptions changed to say they are big-endian suggestedremedy alter descriptions of dot11LCIDSELatitudeResolution dot11LCIDSELatitudeInteger dot11LCIDSELatitudeFraction dot11LCIDSELongitudeResolution dot11LCIDSELongitudeInteger dot11LCIDSELongitudeFraction dot11LCIDSEAltitudeType dot11LCIDSEAltitudeResolution dot11LCIDSEAltitudeInteger dot11LCIDSEAlitiudeFraction and dot11LCIDSEDatum per comment PROPOSED ACCEPT comment status response status ecclesine peter proposed response 2018 cl annex SC annex 44 48 comment type ER dot11RegLocAgreement and dot11RegLocDSE descriptions refer to regloc STA but should refer to enabling AP suggestedremedy change regloc sta's to enabling ap's in both descriptions PROPOSED ACCEPT comment status response status ecclesine peter proposed response TYPE tr/technical required er/editorial required gr/general required t/technical e/editorial g/general COMMENT STATUS d/dispatched a/accepted r/rejected RESPONSE STATUS o/open w/written c/closed u/unsatisfied z/withdrawn SORT ORDER clause subclause page line cl annex SC annex page 19 of 21 7/17/2007 2:37:54 PM submission peter ecclesine cisco systems IEEE 802.11y 3.0 3650-3700 mhz operation in USA comments july 2007 IEEE 802.11-07/2208r0 272 cl annex SC annex 60 comment type TR cannot delete base from 5th row of table baseline spec uses term licensed here base staion in is directly related to mobile STA in suggestedremedy change 5th row of table I.3 from enabling station to licensed base/enabling station PROPOSED ACCEPT IN PRINCIPLE will use tgy terms on new rows for fixed STA and enabling AP and dependent STA comment status response status kwak joe proposed response 271 cl annex SC annex 60 comment type TR new rule 90.1333 does not prohibit IBSS operation but merely defines restrictions on mobile to mobile communcations suggestedremedy change 3rd row of table I.3 from IBSS prohibited to IBSS restrictions PROPOSED ACCEPT comment status response status kwak joe proposed response 273 cl annex SC annex 60 comment type TR DSE stas may be mobile or portable suggestedremedy change 6th row of table I.3 from dependent mobile station to dependent mobile/portable station PROPOSED ACCEPT IN PRINCIPLE will use tgy terms on new rows for fixed STA and enabling AP and dependent STA comment status response status kwak joe proposed response 274 cl annex SC annex 60 comment type TR table I.3 modifications require change to last reserved row suggestedremedy modify last row of table to reserve values 11-255 PROPOSED ACCEPT really 14-255 after 11k and cids 272 and 500 comment status response status kwak joe proposed response 11 cl annex SC annex 62 comment type ER the title of table J.1 was undated to reflect the addition of the new frequency but there is an additional statement within the text of annex that states the regulatory classes specified for 4.9 ghz and ghz operation in the USA are enumerated in table J.1 802.11ma-D9.0 annex page 1151 line 34 which was not updated to correspond to the change although this statement is technically correct even with the 802.11y draft change it becomes confusing that the new rows exist without corresponding change here as well suggestedremedy add additional editing instructions to update this statement in the base draft to reflect the addition of the new frequency band PROPOSED ACCEPT comment status response status amann keith proposed response 2004 cl SC 44 29 comment type TR the datum field in the DSE LCI from figure 85q the DSE registered location from figure 112z and the text of 7.3.2.49 all indicate that this is 3-bit field rather than the 8-bit field defined in RFC 3825 previous comment 1206 from LB 104 was rejected when it was proposed to expand it to 8-bits so that 802.11y would use without modification to RFC 3825 from 11-07-673r3 page 12 the approved change for this item did not include changing the three-bit to 8-bit nor did it change the values from 0..7 to 0..255 suggestedremedy change 8-bit to three-bit and change 0..255 to 0.7 thus reflecting the fact that the datum is using only 3-bits thus possible values 0..7 PROPOSED ACCEPT IN PRINCIPLE commenter's email says the simple fix is to change 0..255 to 1..3 after the INTEGER for the datum MIB element comment status response status cypher david proposed response TYPE tr/technical required er/editorial required gr/general required t/technical e/editorial g/general COMMENT STATUS d/dispatched a/accepted r/rejected RESPONSE STATUS o/open w/written c/closed u/unsatisfied z/withdrawn SORT ORDER clause subclause page line cl SC page 20 of 21 7/17/2007 2:37:54 PM submission peter ecclesine cisco systems IEEE 802.11y 3.0 3650-3700 mhz operation in USA comments july 2007 IEEE 802.11-07/2208r0 1005 cl general SC general comment type ER there seems to be an inconsistent use of TRUE/FALSE nomenclature there are several locations in the document that previously read true that have been changed to and similarly for false and but not all of them were changed and there doesn't appear to any good reason for which ones changed and which ones didn't suggestedremedy make the use of true/false or 1/0 consistent throughout the document PROPOSED ACCEPT IN PRINCIPLE accepted in principle based on discussion in 07/0674r2 comment status response status amann keith proposed response 2061 cl general SC general 25 32 comment type TR the description of the DSE procedures need rewrite to make them much clearer and match the intent of the TG suggestedremedy it is hard to know how to rewrite the procedures until the intent of the TG is more obvious PROPOSED ACCEPT IN PRINCIPLE comment appears to be generalization of comment 2052 by same commenter which only addresses 11.14 accepting 2052 and doing the supporting message formats causes changes to other clauses comment status response status myles andrew proposed response 2042 cl general SC general 27 19 comment type ER dot11AssociateFailHoldTime is used three times in the document it should be dot11DSEAssociateFailHoldTime suggestedremedy fix PROPOSED ACCEPT comment status response status myles andrew proposed response 2011 cl general SC general 32 comment type ER editorial notes in the body of the clean draft should be removed as they will not be in the draft forwarded to sponsor ballot but can remain in the redlined version of the draft suggestedremedy remove EDITORIAL notes from the body of the clean draft PROPOSED ACCEPT comment status response status ecclesine peter proposed response 2010 cl table of SC table of contents 11 comment type ER the 802.11-2007 standard does not list the tables in clause 10 so delete them from p802.11y suggestedremedy per comment PROPOSED ACCEPT comment status response status ecclesine peter proposed response TYPE tr/technical required er/editorial required gr/general required t/technical e/editorial g/general COMMENT STATUS d/dispatched a/accepted r/rejected RESPONSE STATUS o/open w/written c/closed u/unsatisfied z/withdrawn SORT ORDER clause subclause page line cl table of SC table of contents page 21 of 21 7/17/2007 2:37:54 PM submission peter ecclesine cisco systems\n"
     ]
    }
   ],
   "source": [
    "#take a look at the data\n",
    "print(\"key:\\n\", keys[0])\n",
    "#07__ as prefix means this document is the 2007\n",
    "#11-07-2208-01-000y-802-11y-conditional-sponsor-ballot-report.pdf  is the real file name\n",
    "print(\"content:\\n\", data80211[keys[0]])"
   ]
  },
  {
   "cell_type": "code",
   "execution_count": 7,
   "metadata": {},
   "outputs": [],
   "source": [
    "contents = [v for k,v in data80211.items()]"
   ]
  },
  {
   "cell_type": "code",
   "execution_count": 8,
   "metadata": {},
   "outputs": [],
   "source": [
    "#build up a data frame\n",
    "df80211 = pd.DataFrame()\n",
    "df80211[\"Filename\"] = keys\n",
    "df80211[\"Content\"] = contents"
   ]
  },
  {
   "cell_type": "code",
   "execution_count": 9,
   "metadata": {},
   "outputs": [],
   "source": [
    "# save as csv output.\n",
    "# df80211.to_csv(\"./80211Data/80211mentor_file_content.csv\")"
   ]
  },
  {
   "cell_type": "markdown",
   "metadata": {},
   "source": [
    "## 2. fileter for 80211"
   ]
  },
  {
   "cell_type": "code",
   "execution_count": 10,
   "metadata": {},
   "outputs": [],
   "source": [
    "author_info_80211 = pd.read_csv(\"./author_info/80211_mentor_1to573_author_info.csv\")"
   ]
  },
  {
   "cell_type": "code",
   "execution_count": 11,
   "metadata": {},
   "outputs": [],
   "source": [
    "titles_80211 = author_info_80211[\"Title\"]\n",
    "downloads_80211 = author_info_80211[\"Download\"]\n",
    "filenames_80211 = [link.split(\"/\")[-1] for link in downloads_80211]\n",
    "years_80211 = [int(file[3:5]) for file in filenames_80211]"
   ]
  },
  {
   "cell_type": "code",
   "execution_count": 12,
   "metadata": {},
   "outputs": [
    {
     "name": "stdout",
     "output_type": "stream",
     "text": [
      "0                        Public Easements for 802.11\n",
      "1                        TIM Offset of Page Segments\n",
      "2                   Discussion of WUR Packets Design\n",
      "3                   Discussion of WUR Packets Design\n",
      "4    Demand of Being Waken Up While Moving Follow-up\n",
      "Name: Title, dtype: object \n",
      "\n",
      "\n",
      "['11-09-0830-01-0wng-public-easements-for-802-11.ppt', '11-13-0516-00-00ah-tim-offset-of-page-segments.pptx', '11-16-1504-01-0wur-discussion-of-wur-packets-design.pptx', '11-16-1504-00-0wur-discussion-of-wur-packets-design.pptx', '11-16-1215-00-0wur-demand-of-being-waken-up-while-moving-follow-up.pptx', '11-16-0813-00-00ax-cr-on-secition-26-2-2-txrxvector-parameters.doc', '11-12-0413-00-00ac-clause-10-38-4-comment-resolutions.docx', '11-14-1387-00-00aj-packet-encoding-solution-for-45ghz.pptx', '11-13-1054-00-0hew-evaluation-metrics.pptx', '11-04-0251-02-000k-revised-site-report-text-in-clause-11-8.doc'] \n",
      "\n",
      "\n",
      "[9, 13, 16, 16, 16, 16, 12, 14, 13, 4]\n"
     ]
    }
   ],
   "source": [
    "#take a look at data\n",
    "print(titles_80211.head(),\"\\n\\n\")\n",
    "print(filenames_80211[:10], \"\\n\\n\")\n",
    "## explanation on the file name: \n",
    "#11-09-0830-01-0wng-public-easements-for-802-11.ppt is the file name\n",
    "#039 in 11-09 is the year\n",
    "print(years_80211[:10])\n"
   ]
  },
  {
   "cell_type": "markdown",
   "metadata": {},
   "source": [
    "### 2. 1 change parameters of your filter here"
   ]
  },
  {
   "cell_type": "code",
   "execution_count": 13,
   "metadata": {},
   "outputs": [],
   "source": [
    "from toolFunc import isTechFile\n",
    "filter_words = [\"minutes\",\"comment\",\"resolution\", \"CR\", \"closing report\", \"agenda\", \"press release\", \"comment resolution\", \"voting\", \"ballot\", \"comments\",\"vote\",\"agenda\", \"motions\"]\n",
    "start_year = 90 #means 1994, including 94\n",
    "end_year = 18 # means 2018, including 18"
   ]
  },
  {
   "cell_type": "code",
   "execution_count": 15,
   "metadata": {},
   "outputs": [],
   "source": [
    "filepath_techfilecsv_80211 = \"./80211Result/80211mentor_tech.csv\"\n",
    "filepath_nontech_80211 = \"./80211Result/80211mentor_nontech.csv\"\n",
    "filepath_techfilename_80211 = \"./80211Result/80211tech_filenames.pkl\""
   ]
  },
  {
   "cell_type": "markdown",
   "metadata": {},
   "source": [
    "#### 2.1 file name1key words filtering"
   ]
  },
  {
   "cell_type": "code",
   "execution_count": 16,
   "metadata": {},
   "outputs": [
    {
     "name": "stdout",
     "output_type": "stream",
     "text": [
      "32752 / 61394 files are considered as technical files\n"
     ]
    }
   ],
   "source": [
    "t_idxs = []\n",
    "for i in range(len(titles_80211)):\n",
    "    if isTechFile(titles_80211[i], filter_words):\n",
    "        t_idxs.append(i)\n",
    "print(\"%d / %d files are considered as technical files\"%(len(t_idxs), len(titles_80211)))"
   ]
  },
  {
   "cell_type": "code",
   "execution_count": 17,
   "metadata": {},
   "outputs": [
    {
     "data": {
      "text/plain": [
       "0                           Public Easements for 802.11\n",
       "1                           TIM Offset of Page Segments\n",
       "2                      Discussion of WUR Packets Design\n",
       "3                      Discussion of WUR Packets Design\n",
       "4       Demand of Being Waken Up While Moving Follow-up\n",
       "7                    Packet Encoding Solution for 45GHz\n",
       "8                                    Evaluation Metrics\n",
       "9               revised site report text in clause 11.8\n",
       "11           Performance Evaluation with RF impairments\n",
       "12           Number of MIMO Multiplex for 11n Standards\n",
       "13             Mitsubishi ITC MAC proposal presentation\n",
       "14                           coex-lsigtxop-motion-ready\n",
       "15                           coex-lsigtxop-motion-ready\n",
       "17                   Updated Texts Clause 11a 7 Ra Olsr\n",
       "18                             Retry Limit for QoS Data\n",
       "19    Bandwidth granularity on UL-OFDMA data allocation\n",
       "21    Supplimentary specifics of sensor usecases : t...\n",
       "22      Traffic Model on Virtual Desktop Infrastructure\n",
       "23    Japanese Frequency Regulations Related to TGn ...\n",
       "24    Japanese Frequency Regulations Related to TGn ...\n",
       "Name: Title, dtype: object"
      ]
     },
     "execution_count": 17,
     "metadata": {},
     "output_type": "execute_result"
    }
   ],
   "source": [
    "## take a look at the data\n",
    "num2show = 20\n",
    "titles_80211[t_idxs[:num2show]]"
   ]
  },
  {
   "cell_type": "markdown",
   "metadata": {},
   "source": [
    "#### 2.1.2 filename year filter"
   ]
  },
  {
   "cell_type": "code",
   "execution_count": 18,
   "metadata": {},
   "outputs": [
    {
     "name": "stdout",
     "output_type": "stream",
     "text": [
      "61394 / 61394 files are from the choosen years\n"
     ]
    }
   ],
   "source": [
    "y_idxs = []\n",
    "if start_year > 80:\n",
    "    start_year = start_year - 100\n",
    "for i in range(len(years_80211)):\n",
    "    year = years_80211[i]\n",
    "    if year <= end_year and year >= start_year:\n",
    "        y_idxs.append(i)\n",
    "print(\"%d / %d files are from the choosen years\" % ( len(y_idxs), len(years_80211)))"
   ]
  },
  {
   "cell_type": "markdown",
   "metadata": {},
   "source": [
    "#### 2.1.3 combine fiter"
   ]
  },
  {
   "cell_type": "code",
   "execution_count": 19,
   "metadata": {},
   "outputs": [
    {
     "name": "stdout",
     "output_type": "stream",
     "text": [
      "32752 / 61394 files are selected\n"
     ]
    }
   ],
   "source": [
    "idxs = set(y_idxs)\n",
    "tech_idxs = idxs.intersection(set(t_idxs))\n",
    "print(\"%d / %d files are selected\" % (len(tech_idxs), len(years_80211)))"
   ]
  },
  {
   "cell_type": "markdown",
   "metadata": {},
   "source": [
    "#### 2.2 save filename into 2 csv files under 80211Result folder"
   ]
  },
  {
   "cell_type": "code",
   "execution_count": 20,
   "metadata": {},
   "outputs": [],
   "source": [
    "nonTech_idxs = [i for i in range(len(years_80211)) if i not in tech_idxs]\n",
    "tech_idxs = list(tech_idxs)"
   ]
  },
  {
   "cell_type": "code",
   "execution_count": 21,
   "metadata": {},
   "outputs": [],
   "source": [
    "nonTech_80211DF = author_info_80211.iloc[nonTech_idxs]\n",
    "tech_80211DF = author_info_80211.iloc[tech_idxs]\n",
    "\n",
    "nonTech_80211DF.to_csv(filepath_nontech_80211)\n",
    "tech_80211DF.to_csv(filepath_techfilecsv_80211)\n",
    "filenames_tech_80211 = [filenames_80211[i] for i in tech_idxs]\n",
    "pickle.dump(filenames_tech_80211, open(filepath_techfilename_80211, \"wb\"))"
   ]
  },
  {
   "cell_type": "code",
   "execution_count": 22,
   "metadata": {},
   "outputs": [
    {
     "data": {
      "text/plain": [
       "['11-09-0830-01-0wng-public-easements-for-802-11.ppt',\n",
       " '11-13-0516-00-00ah-tim-offset-of-page-segments.pptx',\n",
       " '11-16-1504-01-0wur-discussion-of-wur-packets-design.pptx',\n",
       " '11-16-1504-00-0wur-discussion-of-wur-packets-design.pptx',\n",
       " '11-16-1215-00-0wur-demand-of-being-waken-up-while-moving-follow-up.pptx',\n",
       " '11-14-1387-00-00aj-packet-encoding-solution-for-45ghz.pptx',\n",
       " '11-13-1054-00-0hew-evaluation-metrics.pptx',\n",
       " '11-04-0251-02-000k-revised-site-report-text-in-clause-11-8.doc',\n",
       " '11-12-1192-00-cmmw-performance-evaluation-with-rf-impairments.pptx',\n",
       " '11-04-0259-01-000n-number-mimo-multiplex-11n-standards.ppt']"
      ]
     },
     "execution_count": 22,
     "metadata": {},
     "output_type": "execute_result"
    }
   ],
   "source": [
    "filenames_tech_80211[:10]"
   ]
  },
  {
   "cell_type": "code",
   "execution_count": 23,
   "metadata": {},
   "outputs": [
    {
     "data": {
      "text/html": [
       "<div>\n",
       "<style scoped>\n",
       "    .dataframe tbody tr th:only-of-type {\n",
       "        vertical-align: middle;\n",
       "    }\n",
       "\n",
       "    .dataframe tbody tr th {\n",
       "        vertical-align: top;\n",
       "    }\n",
       "\n",
       "    .dataframe thead th {\n",
       "        text-align: right;\n",
       "    }\n",
       "</style>\n",
       "<table border=\"1\" class=\"dataframe\">\n",
       "  <thead>\n",
       "    <tr style=\"text-align: right;\">\n",
       "      <th></th>\n",
       "      <th>Author</th>\n",
       "      <th>Company</th>\n",
       "      <th>Before parsing</th>\n",
       "      <th>Title</th>\n",
       "      <th>Download</th>\n",
       "    </tr>\n",
       "  </thead>\n",
       "  <tbody>\n",
       "    <tr>\n",
       "      <th>0</th>\n",
       "      <td>Richard Paine, Self</td>\n",
       "      <td>self</td>\n",
       "      <td>Richard Paine, Self</td>\n",
       "      <td>Public Easements for 802.11</td>\n",
       "      <td>https://mentor.ieee.org/802.11/dcn/09/11-09-08...</td>\n",
       "    </tr>\n",
       "    <tr>\n",
       "      <th>1</th>\n",
       "      <td>ZTE Corporation</td>\n",
       "      <td>\"ZTE\"</td>\n",
       "      <td>ZTE Corporation</td>\n",
       "      <td>TIM Offset of Page Segments</td>\n",
       "      <td>https://mentor.ieee.org/802.11/dcn/13/11-13-05...</td>\n",
       "    </tr>\n",
       "    <tr>\n",
       "      <th>2</th>\n",
       "      <td>ZTE Corporation</td>\n",
       "      <td>\"ZTE\"</td>\n",
       "      <td>ZTE Corporation</td>\n",
       "      <td>Discussion of WUR Packets Design</td>\n",
       "      <td>https://mentor.ieee.org/802.11/dcn/16/11-16-15...</td>\n",
       "    </tr>\n",
       "    <tr>\n",
       "      <th>3</th>\n",
       "      <td>ZTE Corporation</td>\n",
       "      <td>\"ZTE\"</td>\n",
       "      <td>ZTE Corporation</td>\n",
       "      <td>Discussion of WUR Packets Design</td>\n",
       "      <td>https://mentor.ieee.org/802.11/dcn/16/11-16-15...</td>\n",
       "    </tr>\n",
       "    <tr>\n",
       "      <th>4</th>\n",
       "      <td>ZTE Corporation</td>\n",
       "      <td>\"ZTE\"</td>\n",
       "      <td>ZTE Corporation</td>\n",
       "      <td>Demand of Being Waken Up While Moving Follow-up</td>\n",
       "      <td>https://mentor.ieee.org/802.11/dcn/16/11-16-12...</td>\n",
       "    </tr>\n",
       "  </tbody>\n",
       "</table>\n",
       "</div>"
      ],
      "text/plain": [
       "                Author Company       Before parsing  \\\n",
       "0  Richard Paine, Self    self  Richard Paine, Self   \n",
       "1      ZTE Corporation   \"ZTE\"      ZTE Corporation   \n",
       "2      ZTE Corporation   \"ZTE\"      ZTE Corporation   \n",
       "3      ZTE Corporation   \"ZTE\"      ZTE Corporation   \n",
       "4      ZTE Corporation   \"ZTE\"      ZTE Corporation   \n",
       "\n",
       "                                             Title  \\\n",
       "0                      Public Easements for 802.11   \n",
       "1                      TIM Offset of Page Segments   \n",
       "2                 Discussion of WUR Packets Design   \n",
       "3                 Discussion of WUR Packets Design   \n",
       "4  Demand of Being Waken Up While Moving Follow-up   \n",
       "\n",
       "                                            Download  \n",
       "0  https://mentor.ieee.org/802.11/dcn/09/11-09-08...  \n",
       "1  https://mentor.ieee.org/802.11/dcn/13/11-13-05...  \n",
       "2  https://mentor.ieee.org/802.11/dcn/16/11-16-15...  \n",
       "3  https://mentor.ieee.org/802.11/dcn/16/11-16-15...  \n",
       "4  https://mentor.ieee.org/802.11/dcn/16/11-16-12...  "
      ]
     },
     "execution_count": 23,
     "metadata": {},
     "output_type": "execute_result"
    }
   ],
   "source": [
    "tech_80211DF.head()"
   ]
  },
  {
   "cell_type": "markdown",
   "metadata": {},
   "source": [
    "## 3. key words extraction on the selected files"
   ]
  },
  {
   "cell_type": "code",
   "execution_count": 24,
   "metadata": {},
   "outputs": [],
   "source": [
    "\n",
    "filepath_oneGram = \"./techTerm/oneGram.csv\"\n",
    "filepath_twoGram = \"./techTerm/twoGram.csv\"\n",
    "filepath_threeGram = \"./techTerm/threeGram.csv\"\n",
    "oneGram_pkl = \"./techTerm/techTerm_oneGram_set.dat\"\n",
    "twoGram_pkl = \"./techTerm/techTerm_twoGram_dict.dat\"\n",
    "threeGram_pkl = \"./techTerm/techTerm_threeGram_dict.dat\"\n",
    "filepath_AB_80211 = \"./80211Result/ab_wl_dict.dat\"\n",
    "filepath_full_80211 = \"./80211Result/full_dict.dat\""
   ]
  },
  {
   "cell_type": "markdown",
   "metadata": {},
   "source": [
    "### 3.1 after change the csv file for one tow three grams, run this part of codes to update the dictionary for technical terms"
   ]
  },
  {
   "cell_type": "code",
   "execution_count": 25,
   "metadata": {},
   "outputs": [],
   "source": [
    "#generate the tech words and tech words + abbreviation\n",
    "oneGram = list(pd.read_csv(filepath_oneGram)[\"words\"])\n",
    "twoGram = [w.strip() for w in pd.read_csv(filepath_twoGram)[\"words\"]]\n",
    "threeGram = [w.strip() for w in pd.read_csv(filepath_threeGram)[\"words\"]]\n",
    "oneGramSet = set(oneGram)\n",
    "twoGramDict= {}\n",
    "for v in twoGram:\n",
    "    try:\n",
    "        k = v.split()[0]\n",
    "        twoGramDict[k] = v\n",
    "    except:\n",
    "        continue\n",
    "threeGramDict = {}\n",
    "for v in threeGram:\n",
    "    try:\n",
    "        k = v.split()[0]\n",
    "        threeGramDict[k] = v\n",
    "    except:\n",
    "        continue\n",
    "pickle.dump(oneGramSet, open(oneGram_pkl, \"wb\"))\n",
    "pickle.dump(twoGramDict, open(twoGram_pkl, \"wb\"))\n",
    "pickle.dump(threeGramDict, open(threeGram_pkl, \"wb\"))"
   ]
  },
  {
   "cell_type": "code",
   "execution_count": 26,
   "metadata": {},
   "outputs": [],
   "source": [
    "from techTermExtraction import *"
   ]
  },
  {
   "cell_type": "code",
   "execution_count": 27,
   "metadata": {},
   "outputs": [
    {
     "name": "stdout",
     "output_type": "stream",
     "text": [
      "done!\n",
      "24083 / 32752 files have the content\n",
      "24083/24083\r"
     ]
    }
   ],
   "source": [
    "#load the file name\n",
    "filenames_tech_80211 = pickle.load(open(filepath_techfilename_80211, \"rb\"))\n",
    "ab_wl_dict, full_wl_dict = ab_extraction(filenames_tech_80211, data80211,0, len(filenames_tech_80211))\n",
    "#save two file\n",
    "pickle.dump(ab_wl_dict, open(filepath_AB_80211, \"wb\"))\n",
    "pickle.dump(full_wl_dict, open(filepath_full_80211, \"wb\"))"
   ]
  },
  {
   "cell_type": "markdown",
   "metadata": {},
   "source": [
    "## 3.2 change the paras here: prefix = {\"techAB\", \"AB\", \"tech\"} means use both technical terms and extract all Abbreviation, use only Abbreviation, use only technical terms"
   ]
  },
  {
   "cell_type": "code",
   "execution_count": 29,
   "metadata": {},
   "outputs": [],
   "source": [
    "import pickle, re, warnings\n",
    "import pandas as pd\n",
    "from techTermExtraction import *"
   ]
  },
  {
   "cell_type": "code",
   "execution_count": 30,
   "metadata": {},
   "outputs": [],
   "source": [
    "\n",
    "dictPath = \"./Resource/Abb_dict.path\"\n",
    "warnings.filterwarnings(\"ignore\")\n",
    "#key paras\n",
    "#    minCount = 1\n",
    "#    numStart = 0\n",
    "#    numEnd = 2000\n",
    "#    prefix = \"AB\"\n",
    "domain = \"80211\"\n",
    "prefix = [\"tech\", \"AB\", \"techAB\"][2] # 2 means choose techAB\n",
    "setting = {\n",
    "    \"ab_dict\": filepath_AB_80211,\n",
    "    \"full_dict\": filepath_full_80211,\n",
    "    \"keyWord\": \"./\" + domain + \"Result/\" + domain + \"_\" + prefix\n",
    "}"
   ]
  },
  {
   "cell_type": "markdown",
   "metadata": {},
   "source": [
    "### 3.3 start generating the input"
   ]
  },
  {
   "cell_type": "code",
   "execution_count": 31,
   "metadata": {},
   "outputs": [],
   "source": [
    "ab_wl_dict = pickle.load(open(filepath_AB_80211, \"rb\"))\n",
    "full_wl_dict = pickle.load(open(filepath_full_80211, \"rb\"))\n",
    "fileNames = full_wl_dict.keys()\n",
    "updateFilterWords()"
   ]
  },
  {
   "cell_type": "code",
   "execution_count": 32,
   "metadata": {},
   "outputs": [],
   "source": [
    "dictAbb1 = getDictOfAbb(dictPath)\n",
    "oneGram = pickle.load(open(oneGram_pkl, \"rb\"))\n",
    "twoGram = pickle.load(open(twoGram_pkl, \"rb\"))\n",
    "threeGram = pickle.load(open(threeGram_pkl, \"rb\"))"
   ]
  },
  {
   "cell_type": "markdown",
   "metadata": {},
   "source": [
    "### 3.4 following is the main code of generating the words:\n",
    "#### 1. modify the /Resource/filterCandidiate.xlsx, add new words and mark as 1, save the change\n",
    "####  2. use python run the geneticWordsGenerator.py\n",
    "#### 3. run the following cells"
   ]
  },
  {
   "cell_type": "code",
   "execution_count": 34,
   "metadata": {},
   "outputs": [
    {
     "name": "stdout",
     "output_type": "stream",
     "text": [
      "number of files extracted: 1000\n"
     ]
    }
   ],
   "source": [
    "output = []\n",
    "count = 0\n",
    "for file in list(fileNames):\n",
    "    tempOutput = getList(file = file, full_dict = full_wl_dict, oneGram = oneGram, twoGram = twoGram, threeGram = threeGram, abb_all = ab_wl_dict, dictAbb = dictAbb1, pattern = prefix)\n",
    "    count += 1\n",
    "    output.append(tempOutput)\n",
    "    print(\"processing %d\\t / %d\" %(count, len(fileNames)), end = \"\\r\")\n",
    "#    print(len(output[0]))\n",
    "listOfWordDict = {}\n",
    "for out in output:\n",
    "    if (len(out[0]) > 0):\n",
    "        listOfWordDict[out[1]] = out[0]\n",
    "print(\"number of files extracted:\", len(output))\n",
    "\n",
    "\n",
    "pickle.dump(listOfWordDict, open(setting[\"keyWord\"] + \"_wl_dict.dat\", \"wb\"))"
   ]
  },
  {
   "cell_type": "code",
   "execution_count": null,
   "metadata": {},
   "outputs": [],
   "source": [
    "wl_tech"
   ]
  },
  {
   "cell_type": "markdown",
   "metadata": {},
   "source": [
    "### 3.5 save the <filename- wordlist> dictionary into csv files"
   ]
  },
  {
   "cell_type": "code",
   "execution_count": 35,
   "metadata": {},
   "outputs": [],
   "source": [
    "from save_lda_input import *\n",
    "filepath_AB = \"./80211Result/80211_AB_wl_dict.dat\"\n",
    "filepath_tech = \"./80211Result/80211_tech_wl_dict.dat\"\n",
    "filepath_techAB = \"./80211Result/80211_techAB_wl_dict.dat\"\n",
    "filepath_filterwords = \"./Resource/wordsNeedToBeFiltered.dat\" "
   ]
  },
  {
   "cell_type": "code",
   "execution_count": 36,
   "metadata": {},
   "outputs": [],
   "source": [
    "wl_AB = pickle.load(open(filepath_AB, \"rb\"))\n",
    "wl_tech = pickle.load(open(filepath_tech, \"rb\"))\n",
    "wl_tech_AB = pickle.load(open(filepath_techAB, \"rb\"))\n",
    "wordsNeed2Filter = pickle.load(open(filepath_filterwords, \"rb\"))"
   ]
  },
  {
   "cell_type": "code",
   "execution_count": 37,
   "metadata": {},
   "outputs": [],
   "source": [
    "#filter the words\n",
    "wl_AB = filtering(wl_AB, wordsNeed2Filter)\n",
    "wl_tech = filtering(wl_tech, wordsNeed2Filter)\n",
    "wl_tech_AB = filtering(wl_tech_AB, wordsNeed2Filter)"
   ]
  },
  {
   "cell_type": "code",
   "execution_count": 38,
   "metadata": {},
   "outputs": [],
   "source": [
    "\n",
    "#check the filter results\n",
    "check(wl_AB, wordsNeed2Filter)\n",
    "check(wl_tech, wordsNeed2Filter)\n",
    "check(wl_tech_AB, wordsNeed2Filter)\n",
    "\n",
    "\n",
    "#modify the filter file name\n",
    "file_AB_filtered = \"_filtered.\".join(filepath_AB.split(\".\"))[9:]\n",
    "file_tech_filtered = \"_filtered.\".join(filepath_tech.split(\".\"))[9:]\n",
    "file_techAB_filtered = \"_filtered.\".join(filepath_techAB.split(\".\"))[9:]\n",
    "\n",
    "#write down the dictionary\n",
    "pickle.dump(wl_AB, open(file_AB_filtered, \"wb\"))\n",
    "pickle.dump(wl_tech, open(file_tech_filtered, \"wb\"))\n",
    "pickle.dump(wl_tech_AB, open(file_techAB_filtered, \"wb\"))\n",
    "\n",
    "#write the result to csv file \n",
    "# saveAsCSV(wl_AB, \"80211_abbr_LDA_inputs.csv\")\n",
    "# saveAsCSV(wl_tech, \"80211_tech_LDA_inputs.csv\")\n",
    "# saveAsCSV(wl_tech_AB, \"80211_tech_abbr_LDA_inputs.csv\")\n",
    "saveToCSV(file_AB_filtered)\n",
    "saveToCSV(file_tech_filtered)\n",
    "saveToCSV(file_techAB_filtered)\n",
    "\n",
    "#save into previous format for prof anidiya\n",
    "save_data_csv(filepath_AB, wl_AB)\n",
    "save_data_csv(filepath_tech, wl_tech)\n",
    "save_data_csv(filepath_techAB, wl_tech_AB)"
   ]
  },
  {
   "cell_type": "code",
   "execution_count": null,
   "metadata": {},
   "outputs": [],
   "source": []
  },
  {
   "cell_type": "markdown",
   "metadata": {},
   "source": [
    "### 4. run the model, exp: prefix = \"AB\", start = 5, end = 21,  model will choose the 80211_AB as input, try to run lda models with topic number from 5 to 20(20 = 21-1)."
   ]
  },
  {
   "cell_type": "code",
   "execution_count": null,
   "metadata": {},
   "outputs": [],
   "source": [
    "# from runLDA import *\n",
    "# domain = \"80211\"\n",
    "# prefix = [\"tech\", \"AB\", \"techAB\"][2]\n",
    "# filepath_wl_dict = \"./80211Result/\" + domain + \"_\" + prefix + '_wl_dict_filtered.dat'\n",
    "\n",
    "# start = 5\n",
    "# end = 21\n",
    "# for i in range(start, end):\n",
    "#     random.seed(200)\n",
    "#     filepath_html = \"./80211LDA/\" + prefix + \"/\" + domain + \"_\" + prefix + \"All_abbr\" + str(i) + \".html\"\n",
    "#     filepath_csv0 = './80211LDA/'+ prefix + \"/\" + domain + \"_\" + prefix + \"Abbr_rep_Docs\" + str(i) + \".csv\"\n",
    "#     filepath_csv1 = './80211LDA/'+ prefix + \"/\"+ domain + \"_\" + prefix  +'Abbr_Docs' + str(i) + '.csv'\n",
    "#     filepath_pkl = './80211LDA/'+ prefix + \"/\" + domain + \"_\" + prefix  +'Model' + str(i) + '.csv'\n",
    "#     process(filepath_wl_dict, filepath_html, filepath_csv0, filepath_csv1, i, filepath_pkl)\n",
    "    "
   ]
  },
  {
   "cell_type": "code",
   "execution_count": null,
   "metadata": {},
   "outputs": [],
   "source": [
    "# this is a parallel version\n",
    "import multiprocessing\n",
    "def parallel_process(paras):\n",
    "    random.seed(200)\n",
    "    filepath_wl_dict, filepath_html, filepath_csv0, filepath_csv1,filepath_pkl, topic_num = paras\n",
    "    process(filepath_wl_dict, filepath_html, filepath_csv0, filepath_csv1, topic_num, filepath_pkl)"
   ]
  },
  {
   "cell_type": "code",
   "execution_count": null,
   "metadata": {},
   "outputs": [],
   "source": [
    "from runLDA import *\n",
    "np = 8 #number of processer we have\n",
    "domain = \"80216\"\n",
    "prefix = [\"tech\", \"AB\", \"techAB\"][1]\n",
    "filepath_wl_dict = \"./80216Result/\" + domain + \"_\" + prefix + '_wl_dict_filtered.dat'\n",
    "\n",
    "start = 5\n",
    "end = 7\n",
    "parasList = []\n",
    "#generating the paras\n",
    "for i in range(start, end):\n",
    "    \n",
    "    filepath_html = \"./80216LDA/\" + prefix + \"/\" + domain + \"_\" + prefix + \"All_abbr\" + str(i) + \".html\"\n",
    "    filepath_csv0 = './80216LDA/'+ prefix + \"/\" + domain + \"_\" + prefix + \"Abbr_rep_Docs\" + str(i) + \".csv\"\n",
    "    filepath_csv1 = './80216LDA/'+ prefix + \"/\"+ domain + \"_\" + prefix  +'Abbr_Docs' + str(i) + '.csv'\n",
    "    filepath_pkl = './80216LDA/'+ prefix + \"/\" + domain + \"_\" + prefix  +'Model' + str(i) + '.csv'\n",
    "    parasList.append([filepath_wl_dict, filepath_html, filepath_csv0, filepath_csv1, filepath_pkl, i])"
   ]
  },
  {
   "cell_type": "code",
   "execution_count": null,
   "metadata": {},
   "outputs": [],
   "source": [
    "p = multiprocessing.Pool(np)\n",
    "p.map(parallel_process, parasList)"
   ]
  },
  {
   "cell_type": "code",
   "execution_count": null,
   "metadata": {},
   "outputs": [],
   "source": []
  },
  {
   "cell_type": "code",
   "execution_count": null,
   "metadata": {},
   "outputs": [],
   "source": []
  },
  {
   "cell_type": "code",
   "execution_count": null,
   "metadata": {},
   "outputs": [],
   "source": []
  },
  {
   "cell_type": "code",
   "execution_count": null,
   "metadata": {},
   "outputs": [],
   "source": []
  },
  {
   "cell_type": "code",
   "execution_count": null,
   "metadata": {},
   "outputs": [],
   "source": [
    "#### this is for 80216, currently uncompleted"
   ]
  },
  {
   "cell_type": "code",
   "execution_count": null,
   "metadata": {},
   "outputs": [],
   "source": [
    "ppt80216 = pickle.load(open(\"./80216Data/80216DOCPPT0to206init_text.dat\", \"rb\"))\n",
    "doc80216 = pickle.load(open(\"./80216Data/80216DOCPPT0to2931init_text.dat\", \"rb\"))\n",
    "pdf80216 = pickle.load(open(\"./80216Data/80216PDF0to8440init_text.dat\", \"rb\"))\n",
    "data80216 = pdf80216\n",
    "for k, v in ppt80216.items():\n",
    "    data80216[k] = v\n",
    "for k, v in doc80216.items():\n",
    "    data80216[k] = v\n",
    "keys_80216 = list(data80216.keys())\n",
    "print(len(keys_80216),\"files in 80216 completed projects have the content\")\n",
    "# data80216[keys_80216[0]]\n"
   ]
  },
  {
   "cell_type": "code",
   "execution_count": null,
   "metadata": {},
   "outputs": [],
   "source": [
    "#take a look at the file\n",
    "ppt80216Keys = list(ppt80216.keys())\n",
    "print(\"key:\\n\", ppt80216Keys[0],\"\\nContent:\")\n",
    "print(ppt80216[ppt80216Keys[0]])"
   ]
  },
  {
   "cell_type": "code",
   "execution_count": null,
   "metadata": {},
   "outputs": [],
   "source": []
  }
 ],
 "metadata": {
  "kernelspec": {
   "display_name": "Python 3",
   "language": "python",
   "name": "python3"
  },
  "language_info": {
   "codemirror_mode": {
    "name": "ipython",
    "version": 3
   },
   "file_extension": ".py",
   "mimetype": "text/x-python",
   "name": "python",
   "nbconvert_exporter": "python",
   "pygments_lexer": "ipython3",
   "version": "3.6.5"
  }
 },
 "nbformat": 4,
 "nbformat_minor": 2
}
